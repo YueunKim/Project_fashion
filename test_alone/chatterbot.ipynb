{
 "cells": [
  {
   "cell_type": "code",
   "execution_count": 3,
   "metadata": {},
   "outputs": [
    {
     "name": "stdout",
     "output_type": "stream",
     "text": [
      "List Trainer: [####################] 100%\n",
      "You're welcome.\n",
      "Sure, I'd like to book a flight to Iceland.\n"
     ]
    }
   ],
   "source": [
    "from chatterbot import ChatBot\n",
    "from chatterbot.trainers import ListTrainer\n",
    "\n",
    "conversation = [\n",
    "     \"Hello\",\n",
    "     \"Hi there!\",\n",
    "     \"How are you doing?\",\n",
    "     \"I'm doing great.\",\n",
    "     \"That is good to hear\",\n",
    "     \"Thank you.\",\n",
    "     \"You're welcome.\",\n",
    "     \"Hi, can I help you?\",\n",
    "     \"Sure, I'd like to book a flight to Iceland.\",\n",
    "     \"Your flight has been booked.\"\n",
    " ]\n",
    "\n",
    "# Create a new chat bot named Charlie\n",
    "chatbot = ChatBot('Charlie')\n",
    "# Create a new Trainer\n",
    "trainer = ListTrainer(chatbot)\n",
    "\n",
    "trainer.train(conversation)\n",
    "# Get a response to the input text 'Good morning.'\n",
    "response = chatbot.get_response(\"Good morning!\")\n",
    "print(response)\n",
    "# Get a response to the input text 'I would like to book a flight.'\n",
    "response = chatbot.get_response('I would like to book a flight.')\n",
    "print(response)"
   ]
  },
  {
   "cell_type": "code",
   "execution_count": null,
   "metadata": {},
   "outputs": [],
   "source": []
  },
  {
   "cell_type": "code",
   "execution_count": null,
   "metadata": {},
   "outputs": [],
   "source": []
  },
  {
   "cell_type": "code",
   "execution_count": null,
   "metadata": {},
   "outputs": [],
   "source": []
  }
 ],
 "metadata": {
  "kernelspec": {
   "display_name": "Python 3",
   "language": "python",
   "name": "python3"
  },
  "language_info": {
   "codemirror_mode": {
    "name": "ipython",
    "version": 3
   },
   "file_extension": ".py",
   "mimetype": "text/x-python",
   "name": "python",
   "nbconvert_exporter": "python",
   "pygments_lexer": "ipython3",
   "version": "3.7.7"
  }
 },
 "nbformat": 4,
 "nbformat_minor": 4
}
