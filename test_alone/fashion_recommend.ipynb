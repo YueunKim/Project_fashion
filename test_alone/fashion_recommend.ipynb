{
 "cells": [
  {
   "cell_type": "markdown",
   "metadata": {},
   "source": [
    "# 2020 ETRI 자율성장 인공지능 경진대회 Fashion-How"
   ]
  },
  {
   "cell_type": "code",
   "execution_count": 1,
   "metadata": {},
   "outputs": [],
   "source": [
    "import numpy as np\n",
    "from glob import glob\n",
    "import cv2, os, random\n",
    "import matplotlib.pyplot as plt\n",
    "%matplotlib inline"
   ]
  },
  {
   "cell_type": "code",
   "execution_count": 2,
   "metadata": {},
   "outputs": [],
   "source": [
    "import tensorflow as tf\n",
    "from tensorflow.keras.preprocessing import image\n",
    "from tensorflow.keras.models import Sequential\n",
    "from tensorflow.keras.layers import Conv2D, MaxPooling2D\n",
    "from tensorflow.keras.layers import Dense, Flatten, Dropout\n",
    "from tensorflow.keras.optimizers import Adam\n",
    "from tensorflow.keras.callbacks import ModelCheckpoint, EarlyStopping"
   ]
  },
  {
   "cell_type": "code",
   "execution_count": 3,
   "metadata": {},
   "outputs": [],
   "source": [
    "seed = 2020\n",
    "np.random.seed(seed)\n",
    "tf.random.set_seed(seed)"
   ]
  },
  {
   "cell_type": "code",
   "execution_count": 4,
   "metadata": {},
   "outputs": [],
   "source": [
    "path='D:/Workspace/AI/image/'"
   ]
  },
  {
   "cell_type": "markdown",
   "metadata": {},
   "source": [
    "## Train Set"
   ]
  },
  {
   "cell_type": "code",
   "execution_count": 5,
   "metadata": {},
   "outputs": [],
   "source": [
    "ROW, COL = 96, 96\n",
    "\n",
    "BLs, CDs, CTs, JKs, JPs, KNs, OPs, PTs, SEs, SHs, SWs, VTs = [], [], [], [], [], [], [], [], [], [], [], []\n",
    "# y_dogs, y_cats = [], []"
   ]
  },
  {
   "cell_type": "code",
   "execution_count": 6,
   "metadata": {},
   "outputs": [
    {
     "name": "stdout",
     "output_type": "stream",
     "text": [
      "0\n"
     ]
    }
   ],
   "source": [
    "BL_path = os.path.join(path, 'BL-*')\n",
    "print(len(glob(BL_path)))\n",
    "\n",
    "for BL_img in glob(BL_path):\n",
    "    BL = cv2.imread(BL_img) # 이미지를 읽고\n",
    "    BL = cv2.cvtColor(BL, cv2.COLOR_BGR2GRAY) # BGR2GRAY로 가져옴\n",
    "    BL = cv2.resize(BL, (ROW, COL)) # 96x96으로 사이즈변경\n",
    "    BL = image.img_to_array(BL)\n",
    "    BLs.append(BL)"
   ]
  },
  {
   "cell_type": "code",
   "execution_count": 7,
   "metadata": {},
   "outputs": [
    {
     "name": "stdout",
     "output_type": "stream",
     "text": [
      "0\n"
     ]
    }
   ],
   "source": [
    "CD_path = os.path.join(path, 'CD-*')\n",
    "print(len(glob(CD_path)))\n",
    "\n",
    "for CD_img in glob(CD_path):\n",
    "    CD = cv2.imread(CD_img) # 이미지를 읽고\n",
    "    CD = cv2.cvtColor(CD, cv2.COLOR_BGR2GRAY) # BGR2GRAY로 가져옴\n",
    "    CD = cv2.resize(CD, (ROW, COL)) # 96x96으로 사이즈변경\n",
    "    CD = image.img_to_array(CD)\n",
    "    CDs.append(CD)"
   ]
  },
  {
   "cell_type": "code",
   "execution_count": 8,
   "metadata": {},
   "outputs": [
    {
     "name": "stdout",
     "output_type": "stream",
     "text": [
      "0\n"
     ]
    }
   ],
   "source": [
    "CT_path = os.path.join(path, 'CT-*')\n",
    "print(len(glob(CT_path)))\n",
    "\n",
    "for CT_img in glob(CT_path):\n",
    "    CT = cv2.imread(CT_img) # 이미지를 읽고\n",
    "    CT = cv2.cvtColor(CT, cv2.COLOR_BGR2GRAY) # BGR2GRAY로 가져옴\n",
    "    CT = cv2.resize(CT, (ROW, COL)) # 96x96으로 사이즈변경\n",
    "    CT = image.img_to_array(CT)\n",
    "    CTs.append(CT)"
   ]
  },
  {
   "cell_type": "code",
   "execution_count": 9,
   "metadata": {},
   "outputs": [
    {
     "name": "stdout",
     "output_type": "stream",
     "text": [
      "0\n"
     ]
    }
   ],
   "source": [
    "JK_path = os.path.join(path, 'JK-*')\n",
    "print(len(glob(JK_path)))\n",
    "\n",
    "for JK_img in glob(JK_path):\n",
    "    JK = cv2.imread(JK_img) # 이미지를 읽고\n",
    "    JK = cv2.cvtColor(JK, cv2.COLOR_BGR2GRAY) # BGR2GRAY로 가져옴\n",
    "    JK = cv2.resize(JK, (ROW, COL)) # 96x96으로 사이즈변경\n",
    "    JK = image.img_to_array(JK)\n",
    "    JKs.append(JK)"
   ]
  },
  {
   "cell_type": "code",
   "execution_count": 10,
   "metadata": {},
   "outputs": [
    {
     "name": "stdout",
     "output_type": "stream",
     "text": [
      "0\n"
     ]
    }
   ],
   "source": [
    "JP_path = os.path.join(path, 'JP-*')\n",
    "print(len(glob(JP_path)))\n",
    "\n",
    "for JP_img in glob(JP_path):\n",
    "    JP = cv2.imread(JP_img) # 이미지를 읽고\n",
    "    JP = cv2.cvtColor(JP, cv2.COLOR_BGR2GRAY) # BGR2GRAY로 가져옴\n",
    "    JP = cv2.resize(JP, (ROW, COL)) # 96x96으로 사이즈변경\n",
    "    JP = image.img_to_array(JP)\n",
    "    JPs.append(JP)"
   ]
  },
  {
   "cell_type": "code",
   "execution_count": 11,
   "metadata": {},
   "outputs": [
    {
     "name": "stdout",
     "output_type": "stream",
     "text": [
      "0\n"
     ]
    }
   ],
   "source": [
    "KN_path = os.path.join(path, 'KN-*')\n",
    "print(len(glob(KN_path)))\n",
    "\n",
    "for KN_img in glob(KN_path):\n",
    "    KN = cv2.imread(KN_img) # 이미지를 읽고\n",
    "    KN = cv2.cvtColor(KN, cv2.COLOR_BGR2GRAY) # BGR2GRAY로 가져옴\n",
    "    KN = cv2.resize(KN, (ROW, COL)) # 96x96으로 사이즈변경\n",
    "    KN = image.img_to_array(KN)\n",
    "    KNs.append(KN)"
   ]
  },
  {
   "cell_type": "code",
   "execution_count": 12,
   "metadata": {},
   "outputs": [
    {
     "name": "stdout",
     "output_type": "stream",
     "text": [
      "0\n"
     ]
    }
   ],
   "source": [
    "OP_path = os.path.join(path, 'OP-*')\n",
    "print(len(glob(OP_path)))\n",
    "\n",
    "for OP_img in glob(OP_path):\n",
    "    OP = cv2.imread(OP_img) # 이미지를 읽고\n",
    "    OP = cv2.cvtColor(OP, cv2.COLOR_BGR2GRAY) # BGR2GRAY로 가져옴\n",
    "    OP = cv2.resize(OP, (ROW, COL)) # 96x96으로 사이즈변경\n",
    "    OP = image.img_to_array(OP)\n",
    "    OPs.append(OP)"
   ]
  },
  {
   "cell_type": "code",
   "execution_count": 13,
   "metadata": {},
   "outputs": [
    {
     "name": "stdout",
     "output_type": "stream",
     "text": [
      "0\n"
     ]
    }
   ],
   "source": [
    "PT_path = os.path.join(path, 'PT-*')\n",
    "print(len(glob(PT_path)))\n",
    "\n",
    "for PT_img in glob(PT_path):\n",
    "    PT = cv2.imread(PT_img) # 이미지를 읽고\n",
    "    PT = cv2.cvtColor(PT, cv2.COLOR_BGR2GRAY) # BGR2GRAY로 가져옴\n",
    "    PT = cv2.resize(PT, (ROW, COL)) # 96x96으로 사이즈변경\n",
    "    PT = image.img_to_array(PT)\n",
    "    PTs.append(PT)"
   ]
  },
  {
   "cell_type": "code",
   "execution_count": 14,
   "metadata": {},
   "outputs": [
    {
     "name": "stdout",
     "output_type": "stream",
     "text": [
      "0\n"
     ]
    }
   ],
   "source": [
    "SE_path = os.path.join(path, 'SE-*')\n",
    "print(len(glob(SE_path)))\n",
    "\n",
    "for SE_img in glob(SE_path):\n",
    "    SE = cv2.imread(SE_img) # 이미지를 읽고\n",
    "    SE = cv2.cvtColor(SE, cv2.COLOR_BGR2GRAY) # BGR2GRAY로 가져옴\n",
    "    SE = cv2.resize(SE, (ROW, COL)) # 96x96으로 사이즈변경\n",
    "    SE = image.img_to_array(SE)\n",
    "    SEs.append(SE)"
   ]
  },
  {
   "cell_type": "code",
   "execution_count": 15,
   "metadata": {},
   "outputs": [
    {
     "name": "stdout",
     "output_type": "stream",
     "text": [
      "0\n"
     ]
    }
   ],
   "source": [
    "SH_path = os.path.join(path, 'SH-*')\n",
    "print(len(glob(SH_path)))\n",
    "\n",
    "for SH_img in glob(SH_path):\n",
    "    SH = cv2.imread(SH_img) # 이미지를 읽고\n",
    "    SH = cv2.cvtColor(SH, cv2.COLOR_BGR2GRAY) # BGR2GRAY로 가져옴\n",
    "    SH = cv2.resize(SH, (ROW, COL)) # 96x96으로 사이즈변경\n",
    "    SH = image.img_to_array(SH)\n",
    "    SHs.append(SH)"
   ]
  },
  {
   "cell_type": "code",
   "execution_count": 16,
   "metadata": {},
   "outputs": [
    {
     "name": "stdout",
     "output_type": "stream",
     "text": [
      "0\n"
     ]
    }
   ],
   "source": [
    "SW_path = os.path.join(path, 'SW-*')\n",
    "print(len(glob(SW_path)))\n",
    "\n",
    "for SW_img in glob(SW_path):\n",
    "    SW = cv2.imread(SW_img) # 이미지를 읽고\n",
    "    SW = cv2.cvtColor(SW, cv2.COLOR_BGR2GRAY) # BGR2GRAY로 가져옴\n",
    "    SW = cv2.resize(SW, (ROW, COL)) # 96x96으로 사이즈변경\n",
    "    SW = image.img_to_array(SW)\n",
    "    SWs.append(SW)"
   ]
  },
  {
   "cell_type": "code",
   "execution_count": 17,
   "metadata": {},
   "outputs": [
    {
     "name": "stdout",
     "output_type": "stream",
     "text": [
      "0\n"
     ]
    }
   ],
   "source": [
    "VT_path = os.path.join(path, 'VT-*')\n",
    "print(len(glob(VT_path)))\n",
    "\n",
    "for VT_img in glob(VT_path):\n",
    "    VT = cv2.imread(VT_img) # 이미지를 읽고\n",
    "    VT = cv2.cvtColor(VT, cv2.COLOR_BGR2GRAY) # BGR2GRAY로 가져옴\n",
    "    VT = cv2.resize(VT, (ROW, COL)) # 96x96으로 사이즈변경\n",
    "    VT = image.img_to_array(VT)\n",
    "    VTs.append(VT)"
   ]
  },
  {
   "cell_type": "code",
   "execution_count": 18,
   "metadata": {},
   "outputs": [],
   "source": [
    "classes = ['BL', 'CD', 'CT', 'JK', 'JP', 'KN', 'OP', 'PT', 'SE', 'SH', 'SW', 'VT']"
   ]
  },
  {
   "cell_type": "code",
   "execution_count": 19,
   "metadata": {},
   "outputs": [
    {
     "ename": "IndexError",
     "evalue": "Cannot choose from an empty sequence",
     "output_type": "error",
     "traceback": [
      "\u001b[1;31m---------------------------------------------------------------------------\u001b[0m",
      "\u001b[1;31mIndexError\u001b[0m                                Traceback (most recent call last)",
      "\u001b[1;32m<ipython-input-19-78c6de16a1ed>\u001b[0m in \u001b[0;36m<module>\u001b[1;34m\u001b[0m\n\u001b[0;32m      2\u001b[0m \u001b[1;32mfor\u001b[0m \u001b[0mi\u001b[0m \u001b[1;32min\u001b[0m \u001b[0mrange\u001b[0m\u001b[1;33m(\u001b[0m\u001b[1;36m5\u001b[0m\u001b[1;33m)\u001b[0m\u001b[1;33m:\u001b[0m\u001b[1;33m\u001b[0m\u001b[1;33m\u001b[0m\u001b[0m\n\u001b[0;32m      3\u001b[0m     \u001b[0mplt\u001b[0m\u001b[1;33m.\u001b[0m\u001b[0msubplot\u001b[0m\u001b[1;33m(\u001b[0m\u001b[1;36m1\u001b[0m\u001b[1;33m,\u001b[0m \u001b[1;36m5\u001b[0m\u001b[1;33m,\u001b[0m \u001b[0mi\u001b[0m\u001b[1;33m+\u001b[0m\u001b[1;36m1\u001b[0m\u001b[1;33m)\u001b[0m\u001b[1;33m\u001b[0m\u001b[1;33m\u001b[0m\u001b[0m\n\u001b[1;32m----> 4\u001b[1;33m     \u001b[0mimg\u001b[0m \u001b[1;33m=\u001b[0m \u001b[0mimage\u001b[0m\u001b[1;33m.\u001b[0m\u001b[0marray_to_img\u001b[0m\u001b[1;33m(\u001b[0m\u001b[0mrandom\u001b[0m\u001b[1;33m.\u001b[0m\u001b[0mchoice\u001b[0m\u001b[1;33m(\u001b[0m\u001b[0mBLs\u001b[0m\u001b[1;33m)\u001b[0m\u001b[1;33m)\u001b[0m\u001b[1;33m\u001b[0m\u001b[1;33m\u001b[0m\u001b[0m\n\u001b[0m\u001b[0;32m      5\u001b[0m     \u001b[0mplt\u001b[0m\u001b[1;33m.\u001b[0m\u001b[0mimshow\u001b[0m\u001b[1;33m(\u001b[0m\u001b[0mimg\u001b[0m\u001b[1;33m,\u001b[0m \u001b[0mcmap\u001b[0m\u001b[1;33m=\u001b[0m\u001b[0mplt\u001b[0m\u001b[1;33m.\u001b[0m\u001b[0mget_cmap\u001b[0m\u001b[1;33m(\u001b[0m\u001b[1;34m'gray'\u001b[0m\u001b[1;33m)\u001b[0m\u001b[1;33m)\u001b[0m\u001b[1;33m\u001b[0m\u001b[1;33m\u001b[0m\u001b[0m\n\u001b[0;32m      6\u001b[0m \u001b[1;33m\u001b[0m\u001b[0m\n",
      "\u001b[1;32mC:\\ProgramData\\Anaconda3\\envs\\tf2\\lib\\random.py\u001b[0m in \u001b[0;36mchoice\u001b[1;34m(self, seq)\u001b[0m\n\u001b[0;32m    259\u001b[0m             \u001b[0mi\u001b[0m \u001b[1;33m=\u001b[0m \u001b[0mself\u001b[0m\u001b[1;33m.\u001b[0m\u001b[0m_randbelow\u001b[0m\u001b[1;33m(\u001b[0m\u001b[0mlen\u001b[0m\u001b[1;33m(\u001b[0m\u001b[0mseq\u001b[0m\u001b[1;33m)\u001b[0m\u001b[1;33m)\u001b[0m\u001b[1;33m\u001b[0m\u001b[1;33m\u001b[0m\u001b[0m\n\u001b[0;32m    260\u001b[0m         \u001b[1;32mexcept\u001b[0m \u001b[0mValueError\u001b[0m\u001b[1;33m:\u001b[0m\u001b[1;33m\u001b[0m\u001b[1;33m\u001b[0m\u001b[0m\n\u001b[1;32m--> 261\u001b[1;33m             \u001b[1;32mraise\u001b[0m \u001b[0mIndexError\u001b[0m\u001b[1;33m(\u001b[0m\u001b[1;34m'Cannot choose from an empty sequence'\u001b[0m\u001b[1;33m)\u001b[0m \u001b[1;32mfrom\u001b[0m \u001b[1;32mNone\u001b[0m\u001b[1;33m\u001b[0m\u001b[1;33m\u001b[0m\u001b[0m\n\u001b[0m\u001b[0;32m    262\u001b[0m         \u001b[1;32mreturn\u001b[0m \u001b[0mseq\u001b[0m\u001b[1;33m[\u001b[0m\u001b[0mi\u001b[0m\u001b[1;33m]\u001b[0m\u001b[1;33m\u001b[0m\u001b[1;33m\u001b[0m\u001b[0m\n\u001b[0;32m    263\u001b[0m \u001b[1;33m\u001b[0m\u001b[0m\n",
      "\u001b[1;31mIndexError\u001b[0m: Cannot choose from an empty sequence"
     ]
    },
    {
     "data": {
      "image/png": "[encoded data removed]",
      "text/plain": [
       "<Figure size 864x576 with 1 Axes>"
      ]
     },
     "metadata": {
      "needs_background": "light"
     },
     "output_type": "display_data"
    }
   ],
   "source": [
    "plt.figure(figsize=(12,8))    \n",
    "for i in range(5):\n",
    "    plt.subplot(1, 5, i+1)\n",
    "    img = image.array_to_img(random.choice(BLs))\n",
    "    plt.imshow(img, cmap=plt.get_cmap('gray'))\n",
    "\n",
    "    plt.axis('off')\n",
    "plt.show()"
   ]
  },
  {
   "cell_type": "code",
   "execution_count": null,
   "metadata": {},
   "outputs": [],
   "source": [
    "plt.figure(figsize=(12,8))    \n",
    "for i in range(5):\n",
    "    plt.subplot(1, 5, i+1)\n",
    "    img = image.array_to_img(random.choice(CDs))\n",
    "    plt.imshow(img, cmap=plt.get_cmap('gray'))\n",
    "\n",
    "    plt.axis('off')\n",
    "plt.show()"
   ]
  },
  {
   "cell_type": "code",
   "execution_count": null,
   "metadata": {},
   "outputs": [],
   "source": [
    "plt.figure(figsize=(12,8))    \n",
    "for i in range(5):\n",
    "    plt.subplot(1, 5, i+1)\n",
    "    img = image.array_to_img(random.choice(CTs))\n",
    "    plt.imshow(img, cmap=plt.get_cmap('gray'))\n",
    "\n",
    "    plt.axis('off')\n",
    "plt.show()"
   ]
  },
  {
   "cell_type": "code",
   "execution_count": null,
   "metadata": {},
   "outputs": [],
   "source": [
    "plt.figure(figsize=(12,8))    \n",
    "for i in range(5):\n",
    "    plt.subplot(1, 5, i+1)\n",
    "    img = image.array_to_img(random.choice(JKs))\n",
    "    plt.imshow(img, cmap=plt.get_cmap('gray'))\n",
    "\n",
    "    plt.axis('off')\n",
    "plt.show()"
   ]
  },
  {
   "cell_type": "code",
   "execution_count": null,
   "metadata": {},
   "outputs": [],
   "source": [
    "plt.figure(figsize=(12,8))    \n",
    "for i in range(5):\n",
    "    plt.subplot(1, 5, i+1)\n",
    "    img = image.array_to_img(random.choice(JPs))\n",
    "    plt.imshow(img, cmap=plt.get_cmap('gray'))\n",
    "\n",
    "    plt.axis('off')\n",
    "plt.show()"
   ]
  },
  {
   "cell_type": "code",
   "execution_count": null,
   "metadata": {},
   "outputs": [],
   "source": [
    "plt.figure(figsize=(12,8))    \n",
    "for i in range(5):\n",
    "    plt.subplot(1, 5, i+1)\n",
    "    img = image.array_to_img(random.choice(KNs))\n",
    "    plt.imshow(img, cmap=plt.get_cmap('gray'))\n",
    "\n",
    "    plt.axis('off')\n",
    "plt.show()"
   ]
  },
  {
   "cell_type": "code",
   "execution_count": null,
   "metadata": {},
   "outputs": [],
   "source": [
    "plt.figure(figsize=(12,8))    \n",
    "for i in range(5):\n",
    "    plt.subplot(1, 5, i+1)\n",
    "    img = image.array_to_img(random.choice(OPs))\n",
    "    plt.imshow(img, cmap=plt.get_cmap('gray'))\n",
    "\n",
    "    plt.axis('off')\n",
    "plt.show()"
   ]
  },
  {
   "cell_type": "code",
   "execution_count": null,
   "metadata": {},
   "outputs": [],
   "source": [
    "plt.figure(figsize=(12,8))    \n",
    "for i in range(5):\n",
    "    plt.subplot(1, 5, i+1)\n",
    "    img = image.array_to_img(random.choice(PTs))\n",
    "    plt.imshow(img, cmap=plt.get_cmap('gray'))\n",
    "\n",
    "    plt.axis('off')\n",
    "plt.show()"
   ]
  },
  {
   "cell_type": "code",
   "execution_count": null,
   "metadata": {},
   "outputs": [],
   "source": [
    "plt.figure(figsize=(12,8))    \n",
    "for i in range(5):\n",
    "    plt.subplot(1, 5, i+1)\n",
    "    img = image.array_to_img(random.choice(SEs))\n",
    "    plt.imshow(img, cmap=plt.get_cmap('gray'))\n",
    "\n",
    "    plt.axis('off')\n",
    "plt.show()"
   ]
  },
  {
   "cell_type": "code",
   "execution_count": null,
   "metadata": {},
   "outputs": [],
   "source": [
    "plt.figure(figsize=(12,8))    \n",
    "for i in range(5):\n",
    "    plt.subplot(1, 5, i+1)\n",
    "    img = image.array_to_img(random.choice(SHs))\n",
    "    plt.imshow(img, cmap=plt.get_cmap('gray'))\n",
    "\n",
    "    plt.axis('off')\n",
    "plt.show()"
   ]
  },
  {
   "cell_type": "code",
   "execution_count": null,
   "metadata": {},
   "outputs": [],
   "source": [
    "plt.figure(figsize=(12,8))    \n",
    "for i in range(5):\n",
    "    plt.subplot(1, 5, i+1)\n",
    "    img = image.array_to_img(random.choice(SWs))\n",
    "    plt.imshow(img, cmap=plt.get_cmap('gray'))\n",
    "\n",
    "    plt.axis('off')\n",
    "plt.show()"
   ]
  },
  {
   "cell_type": "code",
   "execution_count": null,
   "metadata": {
    "scrolled": true
   },
   "outputs": [],
   "source": [
    "plt.figure(figsize=(12,8))    \n",
    "for i in range(5):\n",
    "    plt.subplot(1, 5, i+1)\n",
    "    img = image.array_to_img(random.choice(VTs))\n",
    "    plt.imshow(img, cmap=plt.get_cmap('gray'))\n",
    "\n",
    "    plt.axis('off')\n",
    "plt.show()"
   ]
  },
  {
   "cell_type": "code",
   "execution_count": null,
   "metadata": {},
   "outputs": [],
   "source": [
    "from chatterbot import ChatBot\n",
    "from chatterbot.trainers import ListTrainer\n",
    "import pandas as pd"
   ]
  },
  {
   "cell_type": "code",
   "execution_count": null,
   "metadata": {},
   "outputs": [],
   "source": [
    "df = pd.read_csv(\"C:/Users/8/Desktop/프로젝트/자율성장인공지능/토큰분리미적용/ddata.txt\",encoding ='CP949',error_bad_lines=False,header=None,delimiter = '\\t')"
   ]
  },
  {
   "cell_type": "code",
   "execution_count": null,
   "metadata": {},
   "outputs": [],
   "source": [
    "a = df[2]"
   ]
  },
  {
   "cell_type": "code",
   "execution_count": null,
   "metadata": {},
   "outputs": [],
   "source": [
    "a[0]"
   ]
  },
  {
   "cell_type": "code",
   "execution_count": null,
   "metadata": {},
   "outputs": [],
   "source": [
    "b = []"
   ]
  },
  {
   "cell_type": "code",
   "execution_count": null,
   "metadata": {},
   "outputs": [],
   "source": [
    "for i in a:\n",
    "    b.append(i)"
   ]
  },
  {
   "cell_type": "code",
   "execution_count": null,
   "metadata": {},
   "outputs": [],
   "source": [
    "b"
   ]
  },
  {
   "cell_type": "code",
   "execution_count": null,
   "metadata": {},
   "outputs": [],
   "source": [
    "c = [' 어서오세요. 코디봇입니다. 무엇을 도와드릴까요?',\n",
    " ' 처음 대학교 들어가는데 입을 옷 코디해주세요.',\n",
    " ' 신입생 코디에 어울리게 화사한 스웨터를 추천해드릴게요.',\n",
    " 'SW-009',\n",
    " ' 이 옷에 어울리는 치마로 추천해주세요.',\n",
    " 'SK-016',\n",
    " ' 고객님의 키 사이즈에 맞추면 이런 옷도 잘 어울리실 것 같은데 어떠신가요?',\n",
    " ' 제가 키가 작아서 짧은 치마로 추천해주세요.',\n",
    " 'SK-052']"
   ]
  },
  {
   "cell_type": "code",
   "execution_count": null,
   "metadata": {},
   "outputs": [],
   "source": [
    "# conversation = [\n",
    "#      \"Hello\",\n",
    "#      \"Hi there!\",\n",
    "#      \"How are you doing?\",\n",
    "#      \"I'm doing great.\",\n",
    "#      \"That is good to hear\",\n",
    "#      \"Thank you.\",\n",
    "#      \"You're welcome.\",\n",
    "#      \"Hi, can I help you?\",\n",
    "#      \"Sure, I'd like to book a flight to Iceland.\",\n",
    "#      \"Your flight has been booked.\"\n",
    "#  ]\n",
    "\n",
    "conversation = c\n",
    "\n",
    "# Create a new chat bot named Charlie\n",
    "chatbot = ChatBot('Charlie')\n",
    "# Create a new Trainer\n",
    "trainer = ListTrainer(chatbot)\n",
    "\n",
    "trainer.train(conversation)\n",
    "# Get a response to the input text 'Good morning.'\n",
    "response = chatbot.get_response(\"처음 대학교 들어가는데 입을 옷 코디해주세요.\")\n",
    "print(response)\n",
    "response = chatbot.get_response(\"hi\")\n",
    "print(response)"
   ]
  },
  {
   "cell_type": "code",
   "execution_count": null,
   "metadata": {},
   "outputs": [],
   "source": []
  },
  {
   "cell_type": "code",
   "execution_count": null,
   "metadata": {},
   "outputs": [],
   "source": []
  },
  {
   "cell_type": "code",
   "execution_count": null,
   "metadata": {},
   "outputs": [],
   "source": []
  }
 ],
 "metadata": {
  "kernelspec": {
   "display_name": "Python 3",
   "language": "python",
   "name": "python3"
  },
  "language_info": {
   "codemirror_mode": {
    "name": "ipython",
    "version": 3
   },
   "file_extension": ".py",
   "mimetype": "text/x-python",
   "name": "python",
   "nbconvert_exporter": "python",
   "pygments_lexer": "ipython3",
   "version": "3.7.7"
  }
 },
 "nbformat": 4,
 "nbformat_minor": 4
}
