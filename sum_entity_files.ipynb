{
 "cells": [
  {
   "cell_type": "code",
   "execution_count": 24,
   "metadata": {},
   "outputs": [],
   "source": [
    "import pandas as pd"
   ]
  },
  {
   "cell_type": "code",
   "execution_count": 25,
   "metadata": {},
   "outputs": [],
   "source": [
    "ck = pd.read_csv(\"C:/project/fashion/demo/data/raw/COLORKIND.csv\", error_bad_lines=False, encoding = 'utf-8')\n",
    "cs = pd.read_csv(\"C:/project/fashion/demo/data/raw/COLORSIZE.csv\", error_bad_lines=False, encoding = 'utf-8')\n",
    "ks = pd.read_csv(\"C:/project/fashion/demo/data/raw/KINDSIZE.csv\", error_bad_lines=False, encoding = 'utf-8')\n",
    "ps = pd.read_csv(\"C:/project/fashion/demo/data/raw/PAYSALE.csv\", error_bad_lines=False, encoding = 'utf-8')"
   ]
  },
  {
   "cell_type": "code",
   "execution_count": 26,
   "metadata": {},
   "outputs": [],
   "source": [
    "all_entity = pd.concat([ck,cs,ks,ps],ignore_index=True)"
   ]
  },
  {
   "cell_type": "code",
   "execution_count": 27,
   "metadata": {},
   "outputs": [
    {
     "data": {
      "text/html": [
       "<div>\n",
       "<style scoped>\n",
       "    .dataframe tbody tr th:only-of-type {\n",
       "        vertical-align: middle;\n",
       "    }\n",
       "\n",
       "    .dataframe tbody tr th {\n",
       "        vertical-align: top;\n",
       "    }\n",
       "\n",
       "    .dataframe thead th {\n",
       "        text-align: right;\n",
       "    }\n",
       "</style>\n",
       "<table border=\"1\" class=\"dataframe\">\n",
       "  <thead>\n",
       "    <tr style=\"text-align: right;\">\n",
       "      <th></th>\n",
       "      <th>question</th>\n",
       "      <th>label</th>\n",
       "    </tr>\n",
       "  </thead>\n",
       "  <tbody>\n",
       "    <tr>\n",
       "      <th>0</th>\n",
       "      <td>티는 여기 있는 게 다예요?</td>\n",
       "      <td>S-KIND O O O O</td>\n",
       "    </tr>\n",
       "    <tr>\n",
       "      <th>1</th>\n",
       "      <td>면바지 종류는 있어요?</td>\n",
       "      <td>B-KIND E-KIND O</td>\n",
       "    </tr>\n",
       "    <tr>\n",
       "      <th>2</th>\n",
       "      <td>조끼 한 번 입어봐도 돼요?</td>\n",
       "      <td>S-KIND O O O O</td>\n",
       "    </tr>\n",
       "    <tr>\n",
       "      <th>3</th>\n",
       "      <td>같은 걸로 다른 색도 있어요?</td>\n",
       "      <td>O O O S-COLOR O</td>\n",
       "    </tr>\n",
       "    <tr>\n",
       "      <th>4</th>\n",
       "      <td>패딩조끼 오래 입으려면 드라이 맡기는 게 좋죠?</td>\n",
       "      <td>S-KIND O O O O O O</td>\n",
       "    </tr>\n",
       "    <tr>\n",
       "      <th>...</th>\n",
       "      <td>...</td>\n",
       "      <td>...</td>\n",
       "    </tr>\n",
       "    <tr>\n",
       "      <th>3036</th>\n",
       "      <td>3개월 할부 될까요?</td>\n",
       "      <td>O S-PAY O</td>\n",
       "    </tr>\n",
       "    <tr>\n",
       "      <th>3037</th>\n",
       "      <td>상품권 사용해도 될까요?</td>\n",
       "      <td>S-PAY O O</td>\n",
       "    </tr>\n",
       "    <tr>\n",
       "      <th>3038</th>\n",
       "      <td>온누리 상품권 사용할 수 있어요?</td>\n",
       "      <td>O S-PAY O O O</td>\n",
       "    </tr>\n",
       "    <tr>\n",
       "      <th>3039</th>\n",
       "      <td>온누리 상품권 드려도 되나요?</td>\n",
       "      <td>O S-PAY O O</td>\n",
       "    </tr>\n",
       "    <tr>\n",
       "      <th>3040</th>\n",
       "      <td>포인트로 결제할게요</td>\n",
       "      <td>O S-PAY</td>\n",
       "    </tr>\n",
       "  </tbody>\n",
       "</table>\n",
       "<p>3041 rows × 2 columns</p>\n",
       "</div>"
      ],
      "text/plain": [
       "                        question               label\n",
       "0                티는 여기 있는 게 다예요?      S-KIND O O O O\n",
       "1                   면바지 종류는 있어요?     B-KIND E-KIND O\n",
       "2                조끼 한 번 입어봐도 돼요?      S-KIND O O O O\n",
       "3               같은 걸로 다른 색도 있어요?     O O O S-COLOR O\n",
       "4     패딩조끼 오래 입으려면 드라이 맡기는 게 좋죠?  S-KIND O O O O O O\n",
       "...                          ...                 ...\n",
       "3036                 3개월 할부 될까요?           O S-PAY O\n",
       "3037               상품권 사용해도 될까요?           S-PAY O O\n",
       "3038          온누리 상품권 사용할 수 있어요?       O S-PAY O O O\n",
       "3039            온누리 상품권 드려도 되나요?         O S-PAY O O\n",
       "3040                  포인트로 결제할게요             O S-PAY\n",
       "\n",
       "[3041 rows x 2 columns]"
      ]
     },
     "execution_count": 27,
     "metadata": {},
     "output_type": "execute_result"
    }
   ],
   "source": [
    "all_entity"
   ]
  },
  {
   "cell_type": "code",
   "execution_count": 28,
   "metadata": {},
   "outputs": [],
   "source": [
    "all_entity = all_entity.drop_duplicates(['question','label'])"
   ]
  },
  {
   "cell_type": "code",
   "execution_count": 29,
   "metadata": {},
   "outputs": [
    {
     "data": {
      "text/html": [
       "<div>\n",
       "<style scoped>\n",
       "    .dataframe tbody tr th:only-of-type {\n",
       "        vertical-align: middle;\n",
       "    }\n",
       "\n",
       "    .dataframe tbody tr th {\n",
       "        vertical-align: top;\n",
       "    }\n",
       "\n",
       "    .dataframe thead th {\n",
       "        text-align: right;\n",
       "    }\n",
       "</style>\n",
       "<table border=\"1\" class=\"dataframe\">\n",
       "  <thead>\n",
       "    <tr style=\"text-align: right;\">\n",
       "      <th></th>\n",
       "      <th>question</th>\n",
       "      <th>label</th>\n",
       "    </tr>\n",
       "  </thead>\n",
       "  <tbody>\n",
       "    <tr>\n",
       "      <th>0</th>\n",
       "      <td>티는 여기 있는 게 다예요?</td>\n",
       "      <td>S-KIND O O O O</td>\n",
       "    </tr>\n",
       "    <tr>\n",
       "      <th>1</th>\n",
       "      <td>면바지 종류는 있어요?</td>\n",
       "      <td>B-KIND E-KIND O</td>\n",
       "    </tr>\n",
       "    <tr>\n",
       "      <th>2</th>\n",
       "      <td>조끼 한 번 입어봐도 돼요?</td>\n",
       "      <td>S-KIND O O O O</td>\n",
       "    </tr>\n",
       "    <tr>\n",
       "      <th>3</th>\n",
       "      <td>같은 걸로 다른 색도 있어요?</td>\n",
       "      <td>O O O S-COLOR O</td>\n",
       "    </tr>\n",
       "    <tr>\n",
       "      <th>4</th>\n",
       "      <td>패딩조끼 오래 입으려면 드라이 맡기는 게 좋죠?</td>\n",
       "      <td>S-KIND O O O O O O</td>\n",
       "    </tr>\n",
       "    <tr>\n",
       "      <th>...</th>\n",
       "      <td>...</td>\n",
       "      <td>...</td>\n",
       "    </tr>\n",
       "    <tr>\n",
       "      <th>3036</th>\n",
       "      <td>3개월 할부 될까요?</td>\n",
       "      <td>O S-PAY O</td>\n",
       "    </tr>\n",
       "    <tr>\n",
       "      <th>3037</th>\n",
       "      <td>상품권 사용해도 될까요?</td>\n",
       "      <td>S-PAY O O</td>\n",
       "    </tr>\n",
       "    <tr>\n",
       "      <th>3038</th>\n",
       "      <td>온누리 상품권 사용할 수 있어요?</td>\n",
       "      <td>O S-PAY O O O</td>\n",
       "    </tr>\n",
       "    <tr>\n",
       "      <th>3039</th>\n",
       "      <td>온누리 상품권 드려도 되나요?</td>\n",
       "      <td>O S-PAY O O</td>\n",
       "    </tr>\n",
       "    <tr>\n",
       "      <th>3040</th>\n",
       "      <td>포인트로 결제할게요</td>\n",
       "      <td>O S-PAY</td>\n",
       "    </tr>\n",
       "  </tbody>\n",
       "</table>\n",
       "<p>1842 rows × 2 columns</p>\n",
       "</div>"
      ],
      "text/plain": [
       "                        question               label\n",
       "0                티는 여기 있는 게 다예요?      S-KIND O O O O\n",
       "1                   면바지 종류는 있어요?     B-KIND E-KIND O\n",
       "2                조끼 한 번 입어봐도 돼요?      S-KIND O O O O\n",
       "3               같은 걸로 다른 색도 있어요?     O O O S-COLOR O\n",
       "4     패딩조끼 오래 입으려면 드라이 맡기는 게 좋죠?  S-KIND O O O O O O\n",
       "...                          ...                 ...\n",
       "3036                 3개월 할부 될까요?           O S-PAY O\n",
       "3037               상품권 사용해도 될까요?           S-PAY O O\n",
       "3038          온누리 상품권 사용할 수 있어요?       O S-PAY O O O\n",
       "3039            온누리 상품권 드려도 되나요?         O S-PAY O O\n",
       "3040                  포인트로 결제할게요             O S-PAY\n",
       "\n",
       "[1842 rows x 2 columns]"
      ]
     },
     "execution_count": 29,
     "metadata": {},
     "output_type": "execute_result"
    }
   ],
   "source": [
    "all_entity"
   ]
  },
  {
   "cell_type": "code",
   "execution_count": 30,
   "metadata": {},
   "outputs": [],
   "source": [
    "all_entity.to_csv('entity_data.csv',encoding=\"euc-kr\")"
   ]
  },
  {
   "cell_type": "code",
   "execution_count": null,
   "metadata": {},
   "outputs": [],
   "source": []
  }
 ],
 "metadata": {
  "kernelspec": {
   "display_name": "Python 3",
   "language": "python",
   "name": "python3"
  },
  "language_info": {
   "codemirror_mode": {
    "name": "ipython",
    "version": 3
   },
   "file_extension": ".py",
   "mimetype": "text/x-python",
   "name": "python",
   "nbconvert_exporter": "python",
   "pygments_lexer": "ipython3",
   "version": "3.7.6"
  }
 },
 "nbformat": 4,
 "nbformat_minor": 4
}
