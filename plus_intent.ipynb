{
 "cells": [
  {
   "cell_type": "code",
   "execution_count": 49,
   "metadata": {},
   "outputs": [],
   "source": [
    "import pandas as pd"
   ]
  },
  {
   "cell_type": "code",
   "execution_count": 50,
   "metadata": {},
   "outputs": [
    {
     "name": "stderr",
     "output_type": "stream",
     "text": [
      "b'Skipping line 31: expected 1 fields, saw 2\\nSkipping line 301: expected 1 fields, saw 2\\nSkipping line 323: expected 1 fields, saw 2\\nSkipping line 702: expected 1 fields, saw 2\\nSkipping line 703: expected 1 fields, saw 2\\nSkipping line 708: expected 1 fields, saw 2\\nSkipping line 710: expected 1 fields, saw 2\\nSkipping line 725: expected 1 fields, saw 2\\nSkipping line 729: expected 1 fields, saw 2\\nSkipping line 749: expected 1 fields, saw 2\\nSkipping line 753: expected 1 fields, saw 2\\nSkipping line 759: expected 1 fields, saw 2\\nSkipping line 760: expected 1 fields, saw 2\\nSkipping line 765: expected 1 fields, saw 2\\nSkipping line 769: expected 1 fields, saw 2\\nSkipping line 787: expected 1 fields, saw 2\\nSkipping line 788: expected 1 fields, saw 2\\nSkipping line 789: expected 1 fields, saw 2\\nSkipping line 800: expected 1 fields, saw 2\\nSkipping line 811: expected 1 fields, saw 2\\nSkipping line 823: expected 1 fields, saw 2\\nSkipping line 830: expected 1 fields, saw 2\\nSkipping line 846: expected 1 fields, saw 2\\nSkipping line 852: expected 1 fields, saw 2\\nSkipping line 882: expected 1 fields, saw 2\\nSkipping line 901: expected 1 fields, saw 2\\nSkipping line 918: expected 1 fields, saw 2\\nSkipping line 950: expected 1 fields, saw 2\\nSkipping line 958: expected 1 fields, saw 2\\n'\n",
      "b'Skipping line 23: expected 1 fields, saw 2\\nSkipping line 189: expected 1 fields, saw 2\\nSkipping line 204: expected 1 fields, saw 2\\nSkipping line 505: expected 1 fields, saw 2\\nSkipping line 506: expected 1 fields, saw 2\\nSkipping line 510: expected 1 fields, saw 2\\nSkipping line 512: expected 1 fields, saw 2\\nSkipping line 522: expected 1 fields, saw 2\\nSkipping line 524: expected 1 fields, saw 2\\nSkipping line 533: expected 1 fields, saw 2\\nSkipping line 534: expected 1 fields, saw 2\\nSkipping line 535: expected 1 fields, saw 2\\nSkipping line 541: expected 1 fields, saw 2\\nSkipping line 550: expected 1 fields, saw 2\\nSkipping line 557: expected 1 fields, saw 2\\nSkipping line 564: expected 1 fields, saw 2\\nSkipping line 572: expected 1 fields, saw 2\\nSkipping line 584: expected 1 fields, saw 2\\nSkipping line 593: expected 1 fields, saw 2\\nSkipping line 598: expected 1 fields, saw 2\\nSkipping line 601: expected 1 fields, saw 2\\nSkipping line 617: expected 1 fields, saw 2\\nSkipping line 621: expected 1 fields, saw 2\\nSkipping line 637: expected 1 fields, saw 2\\nSkipping line 640: expected 1 fields, saw 2\\nSkipping line 650: expected 1 fields, saw 2\\nSkipping line 669: expected 1 fields, saw 2\\nSkipping line 700: expected 1 fields, saw 2\\nSkipping line 705: expected 1 fields, saw 2\\nSkipping line 712: expected 1 fields, saw 2\\n'\n",
      "b'Skipping line 296: expected 1 fields, saw 2\\nSkipping line 297: expected 1 fields, saw 2\\nSkipping line 727: expected 1 fields, saw 2\\nSkipping line 728: expected 1 fields, saw 2\\nSkipping line 733: expected 1 fields, saw 2\\nSkipping line 735: expected 1 fields, saw 2\\nSkipping line 750: expected 1 fields, saw 2\\nSkipping line 754: expected 1 fields, saw 2\\nSkipping line 773: expected 1 fields, saw 2\\nSkipping line 777: expected 1 fields, saw 2\\nSkipping line 778: expected 1 fields, saw 2\\nSkipping line 784: expected 1 fields, saw 2\\nSkipping line 785: expected 1 fields, saw 2\\nSkipping line 790: expected 1 fields, saw 2\\nSkipping line 794: expected 1 fields, saw 2\\nSkipping line 800: expected 1 fields, saw 2\\nSkipping line 806: expected 1 fields, saw 2\\nSkipping line 807: expected 1 fields, saw 2\\nSkipping line 808: expected 1 fields, saw 2\\nSkipping line 819: expected 1 fields, saw 2\\nSkipping line 820: expected 1 fields, saw 2\\nSkipping line 827: expected 1 fields, saw 2\\nSkipping line 831: expected 1 fields, saw 2\\nSkipping line 852: expected 1 fields, saw 2\\nSkipping line 867: expected 1 fields, saw 2\\nSkipping line 871: expected 1 fields, saw 2\\nSkipping line 873: expected 1 fields, saw 2\\nSkipping line 897: expected 1 fields, saw 2\\nSkipping line 918: expected 1 fields, saw 2\\nSkipping line 921: expected 1 fields, saw 2\\nSkipping line 954: expected 1 fields, saw 2\\nSkipping line 986: expected 1 fields, saw 2\\nSkipping line 998: expected 1 fields, saw 2\\n'\n",
      "b'Skipping line 152: expected 1 fields, saw 2\\nSkipping line 161: expected 1 fields, saw 2\\nSkipping line 164: expected 1 fields, saw 2\\nSkipping line 169: expected 1 fields, saw 2\\n'\n"
     ]
    }
   ],
   "source": [
    "# 파일불러오기\n",
    "ck = pd.read_csv(\"C:/project/fashion/data/colorkind.csv\", header = None, error_bad_lines=False, encoding = 'utf-8')\n",
    "cs = pd.read_csv(\"C:/project/fashion/data/colorsize.csv\", header = None, error_bad_lines=False, encoding = 'utf-8')\n",
    "ks = pd.read_csv(\"C:/project/fashion/data/kindsize.csv\", header = None, error_bad_lines=False, encoding = 'utf-8')\n",
    "ps = pd.read_csv(\"C:/project/fashion/data/paysale.csv\", header = None, error_bad_lines=False, encoding = 'utf-8')"
   ]
  },
  {
   "cell_type": "code",
   "execution_count": 51,
   "metadata": {},
   "outputs": [],
   "source": [
    "# 컬럼명 변경\n",
    "ck.rename(columns = {ck.columns[0]:'question'},inplace = True)\n",
    "cs.rename(columns = {cs.columns[0]:'question'},inplace = True)\n",
    "ks.rename(columns = {ks.columns[0]:'question'},inplace = True)\n",
    "ps.rename(columns = {ps.columns[0]:'question'},inplace = True)"
   ]
  },
  {
   "cell_type": "code",
   "execution_count": 52,
   "metadata": {},
   "outputs": [],
   "source": [
    "ck['question'] = ck['question'].str.lstrip('- - ')\n",
    "cs['question'] = cs['question'].str.lstrip('- - ')\n",
    "ks['question'] = ks['question'].str.lstrip('- - ')\n",
    "ps['question'] = ps['question'].str.lstrip('- - ')"
   ]
  },
  {
   "cell_type": "code",
   "execution_count": 53,
   "metadata": {},
   "outputs": [],
   "source": [
    "ck['label'] = 'COLORKIND'\n",
    "cs['label'] = 'COLORSIZE'\n",
    "ks['label'] = 'KINDSIZE'\n",
    "ps['label'] = 'PAYSALE'"
   ]
  },
  {
   "cell_type": "code",
   "execution_count": 54,
   "metadata": {},
   "outputs": [
    {
     "data": {
      "text/html": [
       "<div>\n",
       "<style scoped>\n",
       "    .dataframe tbody tr th:only-of-type {\n",
       "        vertical-align: middle;\n",
       "    }\n",
       "\n",
       "    .dataframe tbody tr th {\n",
       "        vertical-align: top;\n",
       "    }\n",
       "\n",
       "    .dataframe thead th {\n",
       "        text-align: right;\n",
       "    }\n",
       "</style>\n",
       "<table border=\"1\" class=\"dataframe\">\n",
       "  <thead>\n",
       "    <tr style=\"text-align: right;\">\n",
       "      <th></th>\n",
       "      <th>question</th>\n",
       "      <th>label</th>\n",
       "    </tr>\n",
       "  </thead>\n",
       "  <tbody>\n",
       "    <tr>\n",
       "      <th>0</th>\n",
       "      <td>티는 여기 있는 게 다예요?</td>\n",
       "      <td>COLORKIND</td>\n",
       "    </tr>\n",
       "    <tr>\n",
       "      <th>1</th>\n",
       "      <td>면바지 종류는 있어요?</td>\n",
       "      <td>COLORKIND</td>\n",
       "    </tr>\n",
       "    <tr>\n",
       "      <th>2</th>\n",
       "      <td>조끼 한 번 입어봐도 돼요?</td>\n",
       "      <td>COLORKIND</td>\n",
       "    </tr>\n",
       "    <tr>\n",
       "      <th>3</th>\n",
       "      <td>같은 걸로 다른 색도 있어요?</td>\n",
       "      <td>COLORKIND</td>\n",
       "    </tr>\n",
       "    <tr>\n",
       "      <th>4</th>\n",
       "      <td>패딩조끼 오래 입으려면 드라이 맡기는 게 좋죠?</td>\n",
       "      <td>COLORKIND</td>\n",
       "    </tr>\n",
       "    <tr>\n",
       "      <th>...</th>\n",
       "      <td>...</td>\n",
       "      <td>...</td>\n",
       "    </tr>\n",
       "    <tr>\n",
       "      <th>981</th>\n",
       "      <td>스웨터 올이 풀려 있어서 입을 수가 없잖아요</td>\n",
       "      <td>COLORKIND</td>\n",
       "    </tr>\n",
       "    <tr>\n",
       "      <th>982</th>\n",
       "      <td>흰색 티셔츠에 얼룩이 있는데 이런 걸 판매하시면 어떡해요?</td>\n",
       "      <td>COLORKIND</td>\n",
       "    </tr>\n",
       "    <tr>\n",
       "      <th>983</th>\n",
       "      <td>이 티셔츠 예약할 수 있어요?</td>\n",
       "      <td>COLORKIND</td>\n",
       "    </tr>\n",
       "    <tr>\n",
       "      <th>984</th>\n",
       "      <td>색깔이 맘에 안 들어서 반품하고 싶은데요</td>\n",
       "      <td>COLORKIND</td>\n",
       "    </tr>\n",
       "    <tr>\n",
       "      <th>985</th>\n",
       "      <td>노란색이 더 맘에 들어서요 교환 좀 해주시겠어요?</td>\n",
       "      <td>COLORKIND</td>\n",
       "    </tr>\n",
       "  </tbody>\n",
       "</table>\n",
       "<p>986 rows × 2 columns</p>\n",
       "</div>"
      ],
      "text/plain": [
       "                             question      label\n",
       "0                     티는 여기 있는 게 다예요?  COLORKIND\n",
       "1                        면바지 종류는 있어요?  COLORKIND\n",
       "2                     조끼 한 번 입어봐도 돼요?  COLORKIND\n",
       "3                    같은 걸로 다른 색도 있어요?  COLORKIND\n",
       "4          패딩조끼 오래 입으려면 드라이 맡기는 게 좋죠?  COLORKIND\n",
       "..                                ...        ...\n",
       "981          스웨터 올이 풀려 있어서 입을 수가 없잖아요  COLORKIND\n",
       "982  흰색 티셔츠에 얼룩이 있는데 이런 걸 판매하시면 어떡해요?  COLORKIND\n",
       "983                  이 티셔츠 예약할 수 있어요?  COLORKIND\n",
       "984            색깔이 맘에 안 들어서 반품하고 싶은데요  COLORKIND\n",
       "985       노란색이 더 맘에 들어서요 교환 좀 해주시겠어요?  COLORKIND\n",
       "\n",
       "[986 rows x 2 columns]"
      ]
     },
     "execution_count": 54,
     "metadata": {},
     "output_type": "execute_result"
    }
   ],
   "source": [
    "ck"
   ]
  },
  {
   "cell_type": "code",
   "execution_count": 55,
   "metadata": {},
   "outputs": [],
   "source": [
    "all_intent = pd.concat([ck,cs,ks,ps],ignore_index=True)"
   ]
  },
  {
   "cell_type": "code",
   "execution_count": 56,
   "metadata": {},
   "outputs": [
    {
     "data": {
      "text/html": [
       "<div>\n",
       "<style scoped>\n",
       "    .dataframe tbody tr th:only-of-type {\n",
       "        vertical-align: middle;\n",
       "    }\n",
       "\n",
       "    .dataframe tbody tr th {\n",
       "        vertical-align: top;\n",
       "    }\n",
       "\n",
       "    .dataframe thead th {\n",
       "        text-align: right;\n",
       "    }\n",
       "</style>\n",
       "<table border=\"1\" class=\"dataframe\">\n",
       "  <thead>\n",
       "    <tr style=\"text-align: right;\">\n",
       "      <th></th>\n",
       "      <th>question</th>\n",
       "      <th>label</th>\n",
       "    </tr>\n",
       "  </thead>\n",
       "  <tbody>\n",
       "    <tr>\n",
       "      <th>0</th>\n",
       "      <td>티는 여기 있는 게 다예요?</td>\n",
       "      <td>COLORKIND</td>\n",
       "    </tr>\n",
       "    <tr>\n",
       "      <th>1</th>\n",
       "      <td>면바지 종류는 있어요?</td>\n",
       "      <td>COLORKIND</td>\n",
       "    </tr>\n",
       "    <tr>\n",
       "      <th>2</th>\n",
       "      <td>조끼 한 번 입어봐도 돼요?</td>\n",
       "      <td>COLORKIND</td>\n",
       "    </tr>\n",
       "    <tr>\n",
       "      <th>3</th>\n",
       "      <td>같은 걸로 다른 색도 있어요?</td>\n",
       "      <td>COLORKIND</td>\n",
       "    </tr>\n",
       "    <tr>\n",
       "      <th>4</th>\n",
       "      <td>패딩조끼 오래 입으려면 드라이 맡기는 게 좋죠?</td>\n",
       "      <td>COLORKIND</td>\n",
       "    </tr>\n",
       "    <tr>\n",
       "      <th>...</th>\n",
       "      <td>...</td>\n",
       "      <td>...</td>\n",
       "    </tr>\n",
       "    <tr>\n",
       "      <th>2940</th>\n",
       "      <td>3개월 할부 될까요?</td>\n",
       "      <td>PAYSALE</td>\n",
       "    </tr>\n",
       "    <tr>\n",
       "      <th>2941</th>\n",
       "      <td>상품권 사용해도 될까요?</td>\n",
       "      <td>PAYSALE</td>\n",
       "    </tr>\n",
       "    <tr>\n",
       "      <th>2942</th>\n",
       "      <td>온누리 상품권 사용할 수 있어요?</td>\n",
       "      <td>PAYSALE</td>\n",
       "    </tr>\n",
       "    <tr>\n",
       "      <th>2943</th>\n",
       "      <td>온누리 상품권 드려도 되나요?</td>\n",
       "      <td>PAYSALE</td>\n",
       "    </tr>\n",
       "    <tr>\n",
       "      <th>2944</th>\n",
       "      <td>포인트로 결제할게요</td>\n",
       "      <td>PAYSALE</td>\n",
       "    </tr>\n",
       "  </tbody>\n",
       "</table>\n",
       "<p>2945 rows × 2 columns</p>\n",
       "</div>"
      ],
      "text/plain": [
       "                        question      label\n",
       "0                티는 여기 있는 게 다예요?  COLORKIND\n",
       "1                   면바지 종류는 있어요?  COLORKIND\n",
       "2                조끼 한 번 입어봐도 돼요?  COLORKIND\n",
       "3               같은 걸로 다른 색도 있어요?  COLORKIND\n",
       "4     패딩조끼 오래 입으려면 드라이 맡기는 게 좋죠?  COLORKIND\n",
       "...                          ...        ...\n",
       "2940                 3개월 할부 될까요?    PAYSALE\n",
       "2941               상품권 사용해도 될까요?    PAYSALE\n",
       "2942          온누리 상품권 사용할 수 있어요?    PAYSALE\n",
       "2943            온누리 상품권 드려도 되나요?    PAYSALE\n",
       "2944                  포인트로 결제할게요    PAYSALE\n",
       "\n",
       "[2945 rows x 2 columns]"
      ]
     },
     "execution_count": 56,
     "metadata": {},
     "output_type": "execute_result"
    }
   ],
   "source": [
    "all_intent"
   ]
  },
  {
   "cell_type": "code",
   "execution_count": 57,
   "metadata": {},
   "outputs": [],
   "source": [
    "all_intent = all_intent.drop_duplicates(['question','label'])"
   ]
  },
  {
   "cell_type": "code",
   "execution_count": 58,
   "metadata": {},
   "outputs": [],
   "source": [
    "all_intent.to_csv('intent_data.csv',encoding=\"euc-kr\")"
   ]
  },
  {
   "cell_type": "code",
   "execution_count": null,
   "metadata": {},
   "outputs": [],
   "source": []
  }
 ],
 "metadata": {
  "kernelspec": {
   "display_name": "Python 3",
   "language": "python",
   "name": "python3"
  },
  "language_info": {
   "codemirror_mode": {
    "name": "ipython",
    "version": 3
   },
   "file_extension": ".py",
   "mimetype": "text/x-python",
   "name": "python",
   "nbconvert_exporter": "python",
   "pygments_lexer": "ipython3",
   "version": "3.7.6"
  }
 },
 "nbformat": 4,
 "nbformat_minor": 4
}
