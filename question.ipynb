{
 "cells": [
  {
   "cell_type": "code",
   "execution_count": 2,
   "metadata": {},
   "outputs": [],
   "source": [
    "import pandas as pd"
   ]
  },
  {
   "cell_type": "code",
   "execution_count": 3,
   "metadata": {},
   "outputs": [],
   "source": [
    "df = pd.read_csv(\"D:/Workspace/Project_fashion/conv.csv\", header = None, encoding = 'CP949')"
   ]
  },
  {
   "cell_type": "code",
   "execution_count": 4,
   "metadata": {},
   "outputs": [
    {
     "data": {
      "text/html": [
       "<div>\n",
       "<style scoped>\n",
       "    .dataframe tbody tr th:only-of-type {\n",
       "        vertical-align: middle;\n",
       "    }\n",
       "\n",
       "    .dataframe tbody tr th {\n",
       "        vertical-align: top;\n",
       "    }\n",
       "\n",
       "    .dataframe thead th {\n",
       "        text-align: right;\n",
       "    }\n",
       "</style>\n",
       "<table border=\"1\" class=\"dataframe\">\n",
       "  <thead>\n",
       "    <tr style=\"text-align: right;\">\n",
       "      <th></th>\n",
       "      <th>0</th>\n",
       "    </tr>\n",
       "  </thead>\n",
       "  <tbody>\n",
       "    <tr>\n",
       "      <th>0</th>\n",
       "      <td>- - 봄 옷 안 들어와요?</td>\n",
       "    </tr>\n",
       "    <tr>\n",
       "      <th>1</th>\n",
       "      <td>- 내일 들어와요</td>\n",
       "    </tr>\n",
       "    <tr>\n",
       "      <th>2</th>\n",
       "      <td>- - 이거 할인 해주세요?</td>\n",
       "    </tr>\n",
       "    <tr>\n",
       "      <th>3</th>\n",
       "      <td>- 네 그 가격표에서 반값이에요</td>\n",
       "    </tr>\n",
       "    <tr>\n",
       "      <th>4</th>\n",
       "      <td>- - 이런 거는 사이즈가 어떻게 돼요?</td>\n",
       "    </tr>\n",
       "    <tr>\n",
       "      <th>...</th>\n",
       "      <td>...</td>\n",
       "    </tr>\n",
       "    <tr>\n",
       "      <th>5864</th>\n",
       "      <td>- - 수선 끝나면 연락 부탁드려요</td>\n",
       "    </tr>\n",
       "    <tr>\n",
       "      <th>5865</th>\n",
       "      <td>- - 신상품은 언제 들어와요?</td>\n",
       "    </tr>\n",
       "    <tr>\n",
       "      <th>5866</th>\n",
       "      <td>- - 신상 아직 안 들어왔어요?</td>\n",
       "    </tr>\n",
       "    <tr>\n",
       "      <th>5867</th>\n",
       "      <td>- - 신상은 언제쯤 나와요?</td>\n",
       "    </tr>\n",
       "    <tr>\n",
       "      <th>5868</th>\n",
       "      <td>- - 신제품 나오려면 멀었어요?</td>\n",
       "    </tr>\n",
       "  </tbody>\n",
       "</table>\n",
       "<p>5869 rows × 1 columns</p>\n",
       "</div>"
      ],
      "text/plain": [
       "                           0\n",
       "0            - - 봄 옷 안 들어와요?\n",
       "1                  - 내일 들어와요\n",
       "2            - - 이거 할인 해주세요?\n",
       "3          - 네 그 가격표에서 반값이에요\n",
       "4     - - 이런 거는 사이즈가 어떻게 돼요?\n",
       "...                      ...\n",
       "5864     - - 수선 끝나면 연락 부탁드려요\n",
       "5865       - - 신상품은 언제 들어와요?\n",
       "5866      - - 신상 아직 안 들어왔어요?\n",
       "5867        - - 신상은 언제쯤 나와요?\n",
       "5868      - - 신제품 나오려면 멀었어요?\n",
       "\n",
       "[5869 rows x 1 columns]"
      ]
     },
     "execution_count": 4,
     "metadata": {},
     "output_type": "execute_result"
    }
   ],
   "source": [
    "df"
   ]
  },
  {
   "cell_type": "markdown",
   "metadata": {},
   "source": [
    "#### 질문 중에서 결제, 할인, 색, 사이즈, 옷종류에 해당하는 질문을 골라 그 질문에 해당하는 답까지 포함하는 파일만들기"
   ]
  },
  {
   "cell_type": "code",
   "execution_count": 5,
   "metadata": {},
   "outputs": [],
   "source": [
    "df1 = df.loc[df[0].str.contains('- -')]"
   ]
  },
  {
   "cell_type": "code",
   "execution_count": 6,
   "metadata": {},
   "outputs": [],
   "source": [
    "a = ['현금', '카드', '삼성페이', '카카오페이', '현찰', '계좌이체', '할부', '상품권', '결제', \n",
    "     '색', '컬러', '네이비', '블랙', '레드', \n",
    "     '사이즈', '라지', \n",
    "     '옷', '종류', '원피스', '조끼', '코트', '청바지', '블라우스','니트', '패딩', '잠옷', '히트텍', '복', '귀걸이', '파카', '바지', '코트', '티', '정장', '치마', '셔츠', '남방', '잠바', '재킷', '후드', '모자', '가방', '레깅스', '스웨터','스카프', '점퍼', '양말', '맨투맨', '타이', '운동', '바람', '머플러', '메리야스', '슬랙스', '스커트', '양복', '마이', '목도리', '디건']"
   ]
  },
  {
   "cell_type": "code",
   "execution_count": 7,
   "metadata": {},
   "outputs": [],
   "source": [
    "df2 = df1.loc[df1[0].str.contains('현금|카드|삼성페이|카카오페이|현찰|계좌이체|할부|상품권|결제|색|컬러|네이비|블랙|레드|사이즈|라지|종류|원피스|조끼|코트|청바지|블라우스|니트|패딩|잠옷|히트텍|복|귀걸이|파카|바지|코트|티|정장|치마|셔츠|남방|잠바|재킷|후드|모자|가방|레깅스|스웨터|스카프|점퍼|양말|맨투맨|타이|운동|바람|머플러|메리야스|슬랙스|스커트|양복|마이|목도리|디건')]"
   ]
  },
  {
   "cell_type": "code",
   "execution_count": 8,
   "metadata": {
    "scrolled": false
   },
   "outputs": [
    {
     "data": {
      "text/html": [
       "<div>\n",
       "<style scoped>\n",
       "    .dataframe tbody tr th:only-of-type {\n",
       "        vertical-align: middle;\n",
       "    }\n",
       "\n",
       "    .dataframe tbody tr th {\n",
       "        vertical-align: top;\n",
       "    }\n",
       "\n",
       "    .dataframe thead th {\n",
       "        text-align: right;\n",
       "    }\n",
       "</style>\n",
       "<table border=\"1\" class=\"dataframe\">\n",
       "  <thead>\n",
       "    <tr style=\"text-align: right;\">\n",
       "      <th></th>\n",
       "      <th>0</th>\n",
       "    </tr>\n",
       "  </thead>\n",
       "  <tbody>\n",
       "    <tr>\n",
       "      <th>4</th>\n",
       "      <td>- - 이런 거는 사이즈가 어떻게 돼요?</td>\n",
       "    </tr>\n",
       "    <tr>\n",
       "      <th>8</th>\n",
       "      <td>- - 티는 여기 있는 게 다예요?</td>\n",
       "    </tr>\n",
       "    <tr>\n",
       "      <th>10</th>\n",
       "      <td>- - 이게 숫자 적힌 게 사이즈입니까?</td>\n",
       "    </tr>\n",
       "    <tr>\n",
       "      <th>12</th>\n",
       "      <td>- - 제 사이즈는 얼만데요?</td>\n",
       "    </tr>\n",
       "    <tr>\n",
       "      <th>22</th>\n",
       "      <td>- - 면바지 종류는 있어요?</td>\n",
       "    </tr>\n",
       "    <tr>\n",
       "      <th>...</th>\n",
       "      <td>...</td>\n",
       "    </tr>\n",
       "    <tr>\n",
       "      <th>5830</th>\n",
       "      <td>- - 스웨터 올이 풀려 있어서 입을 수가 없잖아요</td>\n",
       "    </tr>\n",
       "    <tr>\n",
       "      <th>5831</th>\n",
       "      <td>- - 흰색 티셔츠에 얼룩이 있는데 이런 걸 판매하시면 어떡해요?</td>\n",
       "    </tr>\n",
       "    <tr>\n",
       "      <th>5849</th>\n",
       "      <td>- - 이 티셔츠 예약할 수 있어요?</td>\n",
       "    </tr>\n",
       "    <tr>\n",
       "      <th>5851</th>\n",
       "      <td>- - 색깔이 맘에 안 들어서 반품하고 싶은데요</td>\n",
       "    </tr>\n",
       "    <tr>\n",
       "      <th>5854</th>\n",
       "      <td>- - 노란색이 더 맘에 들어서요 교환 좀 해주시겠어요?</td>\n",
       "    </tr>\n",
       "  </tbody>\n",
       "</table>\n",
       "<p>1451 rows × 1 columns</p>\n",
       "</div>"
      ],
      "text/plain": [
       "                                         0\n",
       "4                   - - 이런 거는 사이즈가 어떻게 돼요?\n",
       "8                      - - 티는 여기 있는 게 다예요?\n",
       "10                 - - 이게 숫자 적힌 게 사이즈입니까? \n",
       "12                        - - 제 사이즈는 얼만데요?\n",
       "22                        - - 면바지 종류는 있어요?\n",
       "...                                    ...\n",
       "5830          - - 스웨터 올이 풀려 있어서 입을 수가 없잖아요\n",
       "5831  - - 흰색 티셔츠에 얼룩이 있는데 이런 걸 판매하시면 어떡해요?\n",
       "5849                  - - 이 티셔츠 예약할 수 있어요?\n",
       "5851            - - 색깔이 맘에 안 들어서 반품하고 싶은데요\n",
       "5854       - - 노란색이 더 맘에 들어서요 교환 좀 해주시겠어요?\n",
       "\n",
       "[1451 rows x 1 columns]"
      ]
     },
     "execution_count": 8,
     "metadata": {},
     "output_type": "execute_result"
    }
   ],
   "source": [
    "df2"
   ]
  },
  {
   "cell_type": "code",
   "execution_count": 9,
   "metadata": {},
   "outputs": [
    {
     "ename": "SyntaxError",
     "evalue": "invalid syntax (<ipython-input-9-30b480fc3c50>, line 1)",
     "output_type": "error",
     "traceback": [
      "\u001b[1;36m  File \u001b[1;32m\"<ipython-input-9-30b480fc3c50>\"\u001b[1;36m, line \u001b[1;32m1\u001b[0m\n\u001b[1;33m    '- -'와 '카드'가 동시에 들어있으면 그 다음 '- -'이 들어있는 행의 바로 전까지 모두 추출\u001b[0m\n\u001b[1;37m         ^\u001b[0m\n\u001b[1;31mSyntaxError\u001b[0m\u001b[1;31m:\u001b[0m invalid syntax\n"
     ]
    }
   ],
   "source": [
    "'- -'로 시작하는 행 중에 '할인'이 들어있으면 그 다음 '- -'로 시작하는 행의 바로 전까지 모두 추출"
   ]
  },
  {
   "cell_type": "code",
   "execution_count": 92,
   "metadata": {},
   "outputs": [
    {
     "data": {
      "text/html": [
       "<div>\n",
       "<style scoped>\n",
       "    .dataframe tbody tr th:only-of-type {\n",
       "        vertical-align: middle;\n",
       "    }\n",
       "\n",
       "    .dataframe tbody tr th {\n",
       "        vertical-align: top;\n",
       "    }\n",
       "\n",
       "    .dataframe thead th {\n",
       "        text-align: right;\n",
       "    }\n",
       "</style>\n",
       "<table border=\"1\" class=\"dataframe\">\n",
       "  <thead>\n",
       "    <tr style=\"text-align: right;\">\n",
       "      <th></th>\n",
       "      <th>0</th>\n",
       "    </tr>\n",
       "  </thead>\n",
       "  <tbody>\n",
       "    <tr>\n",
       "      <th>2</th>\n",
       "      <td>- - 이거 할인 해주세요?</td>\n",
       "    </tr>\n",
       "    <tr>\n",
       "      <th>165</th>\n",
       "      <td>- - 이 제품은 할인 상품이기 때문에 현금으로 계산해 주세요</td>\n",
       "    </tr>\n",
       "    <tr>\n",
       "      <th>244</th>\n",
       "      <td>- - 적립되는 카드나 할인되는 카드가 있나요?</td>\n",
       "    </tr>\n",
       "    <tr>\n",
       "      <th>254</th>\n",
       "      <td>- - 이거는 지금 이 가격에서 할인이 되는 거예요?</td>\n",
       "    </tr>\n",
       "    <tr>\n",
       "      <th>322</th>\n",
       "      <td>- - 이거는 할인해요?</td>\n",
       "    </tr>\n",
       "    <tr>\n",
       "      <th>...</th>\n",
       "      <td>...</td>\n",
       "    </tr>\n",
       "    <tr>\n",
       "      <th>5670</th>\n",
       "      <td>- - 할인 코너는 따로 없어요?</td>\n",
       "    </tr>\n",
       "    <tr>\n",
       "      <th>5671</th>\n",
       "      <td>- - 할인 코너는 어느 쪽에 있나요?</td>\n",
       "    </tr>\n",
       "    <tr>\n",
       "      <th>5693</th>\n",
       "      <td>- - 이거는 왜 할인하는 거예요?</td>\n",
       "    </tr>\n",
       "    <tr>\n",
       "      <th>5694</th>\n",
       "      <td>- - 이월 상품이라 할인하는 건가요?</td>\n",
       "    </tr>\n",
       "    <tr>\n",
       "      <th>5695</th>\n",
       "      <td>- - 신상품인 거 같은데 왜 할인해요?</td>\n",
       "    </tr>\n",
       "  </tbody>\n",
       "</table>\n",
       "<p>68 rows × 1 columns</p>\n",
       "</div>"
      ],
      "text/plain": [
       "                                       0\n",
       "2                        - - 이거 할인 해주세요?\n",
       "165   - - 이 제품은 할인 상품이기 때문에 현금으로 계산해 주세요\n",
       "244           - - 적립되는 카드나 할인되는 카드가 있나요?\n",
       "254        - - 이거는 지금 이 가격에서 할인이 되는 거예요?\n",
       "322                        - - 이거는 할인해요?\n",
       "...                                  ...\n",
       "5670                  - - 할인 코너는 따로 없어요?\n",
       "5671               - - 할인 코너는 어느 쪽에 있나요?\n",
       "5693                 - - 이거는 왜 할인하는 거예요?\n",
       "5694               - - 이월 상품이라 할인하는 건가요?\n",
       "5695              - - 신상품인 거 같은데 왜 할인해요?\n",
       "\n",
       "[68 rows x 1 columns]"
      ]
     },
     "execution_count": 92,
     "metadata": {},
     "output_type": "execute_result"
    }
   ],
   "source": [
    "df.loc[(df[0].str.startswith('- -')) & (df[0].str.contains('할인'))]"
   ]
  },
  {
   "cell_type": "code",
   "execution_count": 94,
   "metadata": {},
   "outputs": [],
   "source": [
    "num = df[(df[0].str.startswith('- -')) & (df[0].str.contains('할인'))].index.values"
   ]
  },
  {
   "cell_type": "code",
   "execution_count": 95,
   "metadata": {},
   "outputs": [
    {
     "data": {
      "text/plain": [
       "array([   2,  165,  244,  254,  322,  348,  533,  841,  947, 1134, 1190,\n",
       "       1302, 1308, 1320, 1374, 1467, 1719, 1736, 1766, 1991, 1999, 2133,\n",
       "       2233, 2235, 2237, 2239, 2399, 2441, 2443, 2705, 2739, 2849, 2915,\n",
       "       3167, 3175, 3239, 3389, 3799, 3817, 3827, 3857, 3998, 4058, 4064,\n",
       "       4066, 4078, 4118, 4168, 4182, 4427, 4553, 4871, 4905, 4925, 4933,\n",
       "       4935, 5059, 5299, 5301, 5405, 5495, 5668, 5669, 5670, 5671, 5693,\n",
       "       5694, 5695], dtype=int64)"
      ]
     },
     "execution_count": 95,
     "metadata": {},
     "output_type": "execute_result"
    }
   ],
   "source": [
    "num"
   ]
  },
  {
   "cell_type": "code",
   "execution_count": 97,
   "metadata": {},
   "outputs": [
    {
     "data": {
      "text/html": [
       "<div>\n",
       "<style scoped>\n",
       "    .dataframe tbody tr th:only-of-type {\n",
       "        vertical-align: middle;\n",
       "    }\n",
       "\n",
       "    .dataframe tbody tr th {\n",
       "        vertical-align: top;\n",
       "    }\n",
       "\n",
       "    .dataframe thead th {\n",
       "        text-align: right;\n",
       "    }\n",
       "</style>\n",
       "<table border=\"1\" class=\"dataframe\">\n",
       "  <thead>\n",
       "    <tr style=\"text-align: right;\">\n",
       "      <th></th>\n",
       "      <th>0</th>\n",
       "    </tr>\n",
       "  </thead>\n",
       "  <tbody>\n",
       "    <tr>\n",
       "      <th>3</th>\n",
       "      <td>- 네 그 가격표에서 반값이에요</td>\n",
       "    </tr>\n",
       "    <tr>\n",
       "      <th>166</th>\n",
       "      <td>- 현찰은 없어요</td>\n",
       "    </tr>\n",
       "    <tr>\n",
       "      <th>245</th>\n",
       "      <td>- 카드마다 다른데요 매장 자체적으로 5%까지 해드려요</td>\n",
       "    </tr>\n",
       "    <tr>\n",
       "      <th>255</th>\n",
       "      <td>- 원래는 27만 원인데 13만 5천 원으로 할인된 거예요</td>\n",
       "    </tr>\n",
       "    <tr>\n",
       "      <th>323</th>\n",
       "      <td>- 여기는 할인 아니고요</td>\n",
       "    </tr>\n",
       "    <tr>\n",
       "      <th>...</th>\n",
       "      <td>...</td>\n",
       "    </tr>\n",
       "    <tr>\n",
       "      <th>5671</th>\n",
       "      <td>- - 할인 코너는 어느 쪽에 있나요?</td>\n",
       "    </tr>\n",
       "    <tr>\n",
       "      <th>5672</th>\n",
       "      <td>- - 영업은 매일 하시나요?</td>\n",
       "    </tr>\n",
       "    <tr>\n",
       "      <th>5694</th>\n",
       "      <td>- - 이월 상품이라 할인하는 건가요?</td>\n",
       "    </tr>\n",
       "    <tr>\n",
       "      <th>5695</th>\n",
       "      <td>- - 신상품인 거 같은데 왜 할인해요?</td>\n",
       "    </tr>\n",
       "    <tr>\n",
       "      <th>5696</th>\n",
       "      <td>- - 이거는 왜 싸게 파시는 거예요?</td>\n",
       "    </tr>\n",
       "  </tbody>\n",
       "</table>\n",
       "<p>68 rows × 1 columns</p>\n",
       "</div>"
      ],
      "text/plain": [
       "                                     0\n",
       "3                    - 네 그 가격표에서 반값이에요\n",
       "166                          - 현찰은 없어요\n",
       "245     - 카드마다 다른데요 매장 자체적으로 5%까지 해드려요\n",
       "255   - 원래는 27만 원인데 13만 5천 원으로 할인된 거예요\n",
       "323                      - 여기는 할인 아니고요\n",
       "...                                ...\n",
       "5671             - - 할인 코너는 어느 쪽에 있나요?\n",
       "5672                  - - 영업은 매일 하시나요?\n",
       "5694             - - 이월 상품이라 할인하는 건가요?\n",
       "5695            - - 신상품인 거 같은데 왜 할인해요?\n",
       "5696             - - 이거는 왜 싸게 파시는 거예요?\n",
       "\n",
       "[68 rows x 1 columns]"
      ]
     },
     "execution_count": 97,
     "metadata": {},
     "output_type": "execute_result"
    }
   ],
   "source": [
    "for i in num:\n",
    "    b = df.loc[num+1]\n",
    "b"
   ]
  },
  {
   "cell_type": "code",
   "execution_count": 98,
   "metadata": {},
   "outputs": [
    {
     "data": {
      "text/html": [
       "<div>\n",
       "<style scoped>\n",
       "    .dataframe tbody tr th:only-of-type {\n",
       "        vertical-align: middle;\n",
       "    }\n",
       "\n",
       "    .dataframe tbody tr th {\n",
       "        vertical-align: top;\n",
       "    }\n",
       "\n",
       "    .dataframe thead th {\n",
       "        text-align: right;\n",
       "    }\n",
       "</style>\n",
       "<table border=\"1\" class=\"dataframe\">\n",
       "  <thead>\n",
       "    <tr style=\"text-align: right;\">\n",
       "      <th></th>\n",
       "      <th>0</th>\n",
       "    </tr>\n",
       "  </thead>\n",
       "  <tbody>\n",
       "    <tr>\n",
       "      <th>2</th>\n",
       "      <td>- - 이거 할인 해주세요?</td>\n",
       "    </tr>\n",
       "    <tr>\n",
       "      <th>165</th>\n",
       "      <td>- - 이 제품은 할인 상품이기 때문에 현금으로 계산해 주세요</td>\n",
       "    </tr>\n",
       "    <tr>\n",
       "      <th>244</th>\n",
       "      <td>- - 적립되는 카드나 할인되는 카드가 있나요?</td>\n",
       "    </tr>\n",
       "    <tr>\n",
       "      <th>254</th>\n",
       "      <td>- - 이거는 지금 이 가격에서 할인이 되는 거예요?</td>\n",
       "    </tr>\n",
       "    <tr>\n",
       "      <th>322</th>\n",
       "      <td>- - 이거는 할인해요?</td>\n",
       "    </tr>\n",
       "    <tr>\n",
       "      <th>...</th>\n",
       "      <td>...</td>\n",
       "    </tr>\n",
       "    <tr>\n",
       "      <th>5671</th>\n",
       "      <td>- - 할인 코너는 어느 쪽에 있나요?</td>\n",
       "    </tr>\n",
       "    <tr>\n",
       "      <th>5672</th>\n",
       "      <td>- - 영업은 매일 하시나요?</td>\n",
       "    </tr>\n",
       "    <tr>\n",
       "      <th>5694</th>\n",
       "      <td>- - 이월 상품이라 할인하는 건가요?</td>\n",
       "    </tr>\n",
       "    <tr>\n",
       "      <th>5695</th>\n",
       "      <td>- - 신상품인 거 같은데 왜 할인해요?</td>\n",
       "    </tr>\n",
       "    <tr>\n",
       "      <th>5696</th>\n",
       "      <td>- - 이거는 왜 싸게 파시는 거예요?</td>\n",
       "    </tr>\n",
       "  </tbody>\n",
       "</table>\n",
       "<p>136 rows × 1 columns</p>\n",
       "</div>"
      ],
      "text/plain": [
       "                                       0\n",
       "2                        - - 이거 할인 해주세요?\n",
       "165   - - 이 제품은 할인 상품이기 때문에 현금으로 계산해 주세요\n",
       "244           - - 적립되는 카드나 할인되는 카드가 있나요?\n",
       "254        - - 이거는 지금 이 가격에서 할인이 되는 거예요?\n",
       "322                        - - 이거는 할인해요?\n",
       "...                                  ...\n",
       "5671               - - 할인 코너는 어느 쪽에 있나요?\n",
       "5672                    - - 영업은 매일 하시나요?\n",
       "5694               - - 이월 상품이라 할인하는 건가요?\n",
       "5695              - - 신상품인 거 같은데 왜 할인해요?\n",
       "5696               - - 이거는 왜 싸게 파시는 거예요?\n",
       "\n",
       "[136 rows x 1 columns]"
      ]
     },
     "execution_count": 98,
     "metadata": {},
     "output_type": "execute_result"
    }
   ],
   "source": [
    "for i in num:\n",
    "    a = df.loc[(df[0].str.startswith('- -')) & (df[0].str.contains('할인'))]\n",
    "    b = df.loc[num+1]\n",
    "c = pd.concat([a,b])\n",
    "c"
   ]
  },
  {
   "cell_type": "code",
   "execution_count": 76,
   "metadata": {},
   "outputs": [
    {
     "data": {
      "text/plain": [
       "0    - - 봄 옷 안 들어와요?\n",
       "Name: 0, dtype: object"
      ]
     },
     "execution_count": 76,
     "metadata": {},
     "output_type": "execute_result"
    }
   ],
   "source": [
    "df.loc[0]"
   ]
  },
  {
   "cell_type": "code",
   "execution_count": 78,
   "metadata": {},
   "outputs": [
    {
     "data": {
      "text/html": [
       "<div>\n",
       "<style scoped>\n",
       "    .dataframe tbody tr th:only-of-type {\n",
       "        vertical-align: middle;\n",
       "    }\n",
       "\n",
       "    .dataframe tbody tr th {\n",
       "        vertical-align: top;\n",
       "    }\n",
       "\n",
       "    .dataframe thead th {\n",
       "        text-align: right;\n",
       "    }\n",
       "</style>\n",
       "<table border=\"1\" class=\"dataframe\">\n",
       "  <thead>\n",
       "    <tr style=\"text-align: right;\">\n",
       "      <th></th>\n",
       "      <th>0</th>\n",
       "    </tr>\n",
       "  </thead>\n",
       "  <tbody>\n",
       "    <tr>\n",
       "      <th>2</th>\n",
       "      <td>- - 이거 할인 해주세요?</td>\n",
       "    </tr>\n",
       "    <tr>\n",
       "      <th>165</th>\n",
       "      <td>- - 이 제품은 할인 상품이기 때문에 현금으로 계산해 주세요</td>\n",
       "    </tr>\n",
       "    <tr>\n",
       "      <th>244</th>\n",
       "      <td>- - 적립되는 카드나 할인되는 카드가 있나요?</td>\n",
       "    </tr>\n",
       "    <tr>\n",
       "      <th>254</th>\n",
       "      <td>- - 이거는 지금 이 가격에서 할인이 되는 거예요?</td>\n",
       "    </tr>\n",
       "    <tr>\n",
       "      <th>322</th>\n",
       "      <td>- - 이거는 할인해요?</td>\n",
       "    </tr>\n",
       "    <tr>\n",
       "      <th>...</th>\n",
       "      <td>...</td>\n",
       "    </tr>\n",
       "    <tr>\n",
       "      <th>5670</th>\n",
       "      <td>- - 할인 코너는 따로 없어요?</td>\n",
       "    </tr>\n",
       "    <tr>\n",
       "      <th>5671</th>\n",
       "      <td>- - 할인 코너는 어느 쪽에 있나요?</td>\n",
       "    </tr>\n",
       "    <tr>\n",
       "      <th>5693</th>\n",
       "      <td>- - 이거는 왜 할인하는 거예요?</td>\n",
       "    </tr>\n",
       "    <tr>\n",
       "      <th>5694</th>\n",
       "      <td>- - 이월 상품이라 할인하는 건가요?</td>\n",
       "    </tr>\n",
       "    <tr>\n",
       "      <th>5695</th>\n",
       "      <td>- - 신상품인 거 같은데 왜 할인해요?</td>\n",
       "    </tr>\n",
       "  </tbody>\n",
       "</table>\n",
       "<p>68 rows × 1 columns</p>\n",
       "</div>"
      ],
      "text/plain": [
       "                                       0\n",
       "2                        - - 이거 할인 해주세요?\n",
       "165   - - 이 제품은 할인 상품이기 때문에 현금으로 계산해 주세요\n",
       "244           - - 적립되는 카드나 할인되는 카드가 있나요?\n",
       "254        - - 이거는 지금 이 가격에서 할인이 되는 거예요?\n",
       "322                        - - 이거는 할인해요?\n",
       "...                                  ...\n",
       "5670                  - - 할인 코너는 따로 없어요?\n",
       "5671               - - 할인 코너는 어느 쪽에 있나요?\n",
       "5693                 - - 이거는 왜 할인하는 거예요?\n",
       "5694               - - 이월 상품이라 할인하는 건가요?\n",
       "5695              - - 신상품인 거 같은데 왜 할인해요?\n",
       "\n",
       "[68 rows x 1 columns]"
      ]
     },
     "execution_count": 78,
     "metadata": {},
     "output_type": "execute_result"
    }
   ],
   "source": [
    "df[(df[0].str.startswith('- -')) & (df[0].str.contains('할인'))]"
   ]
  },
  {
   "cell_type": "code",
   "execution_count": 41,
   "metadata": {},
   "outputs": [],
   "source": [
    "d = c.sort_index()"
   ]
  },
  {
   "cell_type": "code",
   "execution_count": 42,
   "metadata": {},
   "outputs": [
    {
     "data": {
      "text/html": [
       "<div>\n",
       "<style scoped>\n",
       "    .dataframe tbody tr th:only-of-type {\n",
       "        vertical-align: middle;\n",
       "    }\n",
       "\n",
       "    .dataframe tbody tr th {\n",
       "        vertical-align: top;\n",
       "    }\n",
       "\n",
       "    .dataframe thead th {\n",
       "        text-align: right;\n",
       "    }\n",
       "</style>\n",
       "<table border=\"1\" class=\"dataframe\">\n",
       "  <thead>\n",
       "    <tr style=\"text-align: right;\">\n",
       "      <th></th>\n",
       "      <th>0</th>\n",
       "    </tr>\n",
       "  </thead>\n",
       "  <tbody>\n",
       "    <tr>\n",
       "      <th>0</th>\n",
       "      <td>- - 봄 옷 안 들어와요?</td>\n",
       "    </tr>\n",
       "    <tr>\n",
       "      <th>16</th>\n",
       "      <td>- - 이게 겨울옷인가요?</td>\n",
       "    </tr>\n",
       "    <tr>\n",
       "      <th>41</th>\n",
       "      <td>- - 제가 카드밖에 없는데</td>\n",
       "    </tr>\n",
       "    <tr>\n",
       "      <th>42</th>\n",
       "      <td>- 카드로 결제 해드릴게요</td>\n",
       "    </tr>\n",
       "    <tr>\n",
       "      <th>47</th>\n",
       "      <td>- - 이거는 겨울옷이네요?</td>\n",
       "    </tr>\n",
       "    <tr>\n",
       "      <th>...</th>\n",
       "      <td>...</td>\n",
       "    </tr>\n",
       "    <tr>\n",
       "      <th>5821</th>\n",
       "      <td>- - 옷을 이것저것 입어봤더니 너무 많아서 정리 좀 부탁드려도 될까요?</td>\n",
       "    </tr>\n",
       "    <tr>\n",
       "      <th>5825</th>\n",
       "      <td>- - 옷에 문제 있으면 바꿔주시나요?</td>\n",
       "    </tr>\n",
       "    <tr>\n",
       "      <th>5826</th>\n",
       "      <td>- - 옷에 문제가 있으면 연락드려도 되나요?</td>\n",
       "    </tr>\n",
       "    <tr>\n",
       "      <th>5827</th>\n",
       "      <td>- - 옷에 문제 있는 걸 발견하면 어떻게 해주시나요?</td>\n",
       "    </tr>\n",
       "    <tr>\n",
       "      <th>5856</th>\n",
       "      <td>- - 옷 위에 한 번 입어봐도 되죠?</td>\n",
       "    </tr>\n",
       "  </tbody>\n",
       "</table>\n",
       "<p>834 rows × 1 columns</p>\n",
       "</div>"
      ],
      "text/plain": [
       "                                             0\n",
       "0                              - - 봄 옷 안 들어와요?\n",
       "16                              - - 이게 겨울옷인가요?\n",
       "41                             - - 제가 카드밖에 없는데\n",
       "42                              - 카드로 결제 해드릴게요\n",
       "47                             - - 이거는 겨울옷이네요?\n",
       "...                                        ...\n",
       "5821  - - 옷을 이것저것 입어봤더니 너무 많아서 정리 좀 부탁드려도 될까요?\n",
       "5825                     - - 옷에 문제 있으면 바꿔주시나요?\n",
       "5826                 - - 옷에 문제가 있으면 연락드려도 되나요?\n",
       "5827            - - 옷에 문제 있는 걸 발견하면 어떻게 해주시나요?\n",
       "5856                     - - 옷 위에 한 번 입어봐도 되죠?\n",
       "\n",
       "[834 rows x 1 columns]"
      ]
     },
     "execution_count": 42,
     "metadata": {},
     "output_type": "execute_result"
    }
   ],
   "source": [
    "d"
   ]
  },
  {
   "cell_type": "code",
   "execution_count": null,
   "metadata": {},
   "outputs": [],
   "source": []
  },
  {
   "cell_type": "code",
   "execution_count": null,
   "metadata": {},
   "outputs": [],
   "source": []
  },
  {
   "cell_type": "code",
   "execution_count": null,
   "metadata": {},
   "outputs": [],
   "source": []
  },
  {
   "cell_type": "code",
   "execution_count": null,
   "metadata": {},
   "outputs": [],
   "source": []
  },
  {
   "cell_type": "code",
   "execution_count": null,
   "metadata": {},
   "outputs": [],
   "source": []
  },
  {
   "cell_type": "code",
   "execution_count": null,
   "metadata": {},
   "outputs": [],
   "source": []
  },
  {
   "cell_type": "code",
   "execution_count": null,
   "metadata": {},
   "outputs": [],
   "source": []
  },
  {
   "cell_type": "code",
   "execution_count": 116,
   "metadata": {},
   "outputs": [],
   "source": [
    "data = open('D:/Workspace/Project_fashion/fashion2txt.txt','r',encoding='utf-8')"
   ]
  },
  {
   "cell_type": "code",
   "execution_count": 115,
   "metadata": {},
   "outputs": [
    {
     "data": {
      "text/plain": [
       "<_io.TextIOWrapper name='D:/Workspace/Project_fashion/fashion2txt.txt' mode='r' encoding='cp949'>"
      ]
     },
     "execution_count": 115,
     "metadata": {},
     "output_type": "execute_result"
    }
   ],
   "source": [
    "d=data.read()"
   ]
  },
  {
   "cell_type": "code",
   "execution_count": null,
   "metadata": {},
   "outputs": [],
   "source": [
    "d"
   ]
  },
  {
   "cell_type": "code",
   "execution_count": null,
   "metadata": {},
   "outputs": [],
   "source": []
  },
  {
   "cell_type": "code",
   "execution_count": null,
   "metadata": {},
   "outputs": [],
   "source": []
  },
  {
   "cell_type": "code",
   "execution_count": null,
   "metadata": {},
   "outputs": [],
   "source": []
  },
  {
   "cell_type": "code",
   "execution_count": null,
   "metadata": {},
   "outputs": [],
   "source": []
  },
  {
   "cell_type": "code",
   "execution_count": null,
   "metadata": {},
   "outputs": [],
   "source": []
  },
  {
   "cell_type": "code",
   "execution_count": null,
   "metadata": {},
   "outputs": [],
   "source": []
  },
  {
   "cell_type": "code",
   "execution_count": null,
   "metadata": {},
   "outputs": [],
   "source": []
  },
  {
   "cell_type": "markdown",
   "metadata": {},
   "source": [
    "## 질문만 뽑아내기"
   ]
  },
  {
   "cell_type": "code",
   "execution_count": 8,
   "metadata": {},
   "outputs": [],
   "source": [
    "df1 = df.loc[df[0].str.contains('- -')]"
   ]
  },
  {
   "cell_type": "code",
   "execution_count": 9,
   "metadata": {},
   "outputs": [
    {
     "data": {
      "text/html": [
       "<div>\n",
       "<style scoped>\n",
       "    .dataframe tbody tr th:only-of-type {\n",
       "        vertical-align: middle;\n",
       "    }\n",
       "\n",
       "    .dataframe tbody tr th {\n",
       "        vertical-align: top;\n",
       "    }\n",
       "\n",
       "    .dataframe thead th {\n",
       "        text-align: right;\n",
       "    }\n",
       "</style>\n",
       "<table border=\"1\" class=\"dataframe\">\n",
       "  <thead>\n",
       "    <tr style=\"text-align: right;\">\n",
       "      <th></th>\n",
       "      <th>0</th>\n",
       "    </tr>\n",
       "  </thead>\n",
       "  <tbody>\n",
       "    <tr>\n",
       "      <th>0</th>\n",
       "      <td>- - 봄 옷 안 들어와요?</td>\n",
       "    </tr>\n",
       "    <tr>\n",
       "      <th>2</th>\n",
       "      <td>- - 이거 할인 해주세요?</td>\n",
       "    </tr>\n",
       "    <tr>\n",
       "      <th>4</th>\n",
       "      <td>- - 이런 거는 사이즈가 어떻게 돼요?</td>\n",
       "    </tr>\n",
       "    <tr>\n",
       "      <th>6</th>\n",
       "      <td>- - 66도 있어요?</td>\n",
       "    </tr>\n",
       "    <tr>\n",
       "      <th>8</th>\n",
       "      <td>- - 티는 여기 있는 게 다예요?</td>\n",
       "    </tr>\n",
       "    <tr>\n",
       "      <th>...</th>\n",
       "      <td>...</td>\n",
       "    </tr>\n",
       "    <tr>\n",
       "      <th>5864</th>\n",
       "      <td>- - 수선 끝나면 연락 부탁드려요</td>\n",
       "    </tr>\n",
       "    <tr>\n",
       "      <th>5865</th>\n",
       "      <td>- - 신상품은 언제 들어와요?</td>\n",
       "    </tr>\n",
       "    <tr>\n",
       "      <th>5866</th>\n",
       "      <td>- - 신상 아직 안 들어왔어요?</td>\n",
       "    </tr>\n",
       "    <tr>\n",
       "      <th>5867</th>\n",
       "      <td>- - 신상은 언제쯤 나와요?</td>\n",
       "    </tr>\n",
       "    <tr>\n",
       "      <th>5868</th>\n",
       "      <td>- - 신제품 나오려면 멀었어요?</td>\n",
       "    </tr>\n",
       "  </tbody>\n",
       "</table>\n",
       "<p>3131 rows × 1 columns</p>\n",
       "</div>"
      ],
      "text/plain": [
       "                           0\n",
       "0            - - 봄 옷 안 들어와요?\n",
       "2            - - 이거 할인 해주세요?\n",
       "4     - - 이런 거는 사이즈가 어떻게 돼요?\n",
       "6               - - 66도 있어요?\n",
       "8        - - 티는 여기 있는 게 다예요?\n",
       "...                      ...\n",
       "5864     - - 수선 끝나면 연락 부탁드려요\n",
       "5865       - - 신상품은 언제 들어와요?\n",
       "5866      - - 신상 아직 안 들어왔어요?\n",
       "5867        - - 신상은 언제쯤 나와요?\n",
       "5868      - - 신제품 나오려면 멀었어요?\n",
       "\n",
       "[3131 rows x 1 columns]"
      ]
     },
     "execution_count": 9,
     "metadata": {},
     "output_type": "execute_result"
    }
   ],
   "source": [
    "df1"
   ]
  },
  {
   "cell_type": "code",
   "execution_count": 11,
   "metadata": {},
   "outputs": [],
   "source": [
    "df1.to_excel('question.xlsx')"
   ]
  },
  {
   "cell_type": "code",
   "execution_count": 15,
   "metadata": {},
   "outputs": [],
   "source": [
    "df2 = pd.read_csv(\"D:/Workspace/Project_fashion/question.csv\", header = None, encoding = 'CP949')"
   ]
  },
  {
   "cell_type": "code",
   "execution_count": 20,
   "metadata": {},
   "outputs": [],
   "source": [
    "df2.dropna(inplace = True)"
   ]
  },
  {
   "cell_type": "code",
   "execution_count": 24,
   "metadata": {},
   "outputs": [
    {
     "data": {
      "text/html": [
       "<div>\n",
       "<style scoped>\n",
       "    .dataframe tbody tr th:only-of-type {\n",
       "        vertical-align: middle;\n",
       "    }\n",
       "\n",
       "    .dataframe tbody tr th {\n",
       "        vertical-align: top;\n",
       "    }\n",
       "\n",
       "    .dataframe thead th {\n",
       "        text-align: right;\n",
       "    }\n",
       "</style>\n",
       "<table border=\"1\" class=\"dataframe\">\n",
       "  <thead>\n",
       "    <tr style=\"text-align: right;\">\n",
       "      <th></th>\n",
       "      <th>1</th>\n",
       "    </tr>\n",
       "  </thead>\n",
       "  <tbody>\n",
       "    <tr>\n",
       "      <th>1</th>\n",
       "      <td>- - 봄 옷 안 들어와요?</td>\n",
       "    </tr>\n",
       "    <tr>\n",
       "      <th>2</th>\n",
       "      <td>- - 이거 할인 해주세요?</td>\n",
       "    </tr>\n",
       "    <tr>\n",
       "      <th>3</th>\n",
       "      <td>- - 이런 거는 사이즈가 어떻게 돼요?</td>\n",
       "    </tr>\n",
       "    <tr>\n",
       "      <th>4</th>\n",
       "      <td>- - 66도 있어요?</td>\n",
       "    </tr>\n",
       "    <tr>\n",
       "      <th>5</th>\n",
       "      <td>- - 티는 여기 있는 게 다예요?</td>\n",
       "    </tr>\n",
       "    <tr>\n",
       "      <th>...</th>\n",
       "      <td>...</td>\n",
       "    </tr>\n",
       "    <tr>\n",
       "      <th>3127</th>\n",
       "      <td>- - 수선 끝나면 연락 부탁드려요</td>\n",
       "    </tr>\n",
       "    <tr>\n",
       "      <th>3128</th>\n",
       "      <td>- - 신상품은 언제 들어와요?</td>\n",
       "    </tr>\n",
       "    <tr>\n",
       "      <th>3129</th>\n",
       "      <td>- - 신상 아직 안 들어왔어요?</td>\n",
       "    </tr>\n",
       "    <tr>\n",
       "      <th>3130</th>\n",
       "      <td>- - 신상은 언제쯤 나와요?</td>\n",
       "    </tr>\n",
       "    <tr>\n",
       "      <th>3131</th>\n",
       "      <td>- - 신제품 나오려면 멀었어요?</td>\n",
       "    </tr>\n",
       "  </tbody>\n",
       "</table>\n",
       "<p>3131 rows × 1 columns</p>\n",
       "</div>"
      ],
      "text/plain": [
       "                           1\n",
       "1            - - 봄 옷 안 들어와요?\n",
       "2            - - 이거 할인 해주세요?\n",
       "3     - - 이런 거는 사이즈가 어떻게 돼요?\n",
       "4               - - 66도 있어요?\n",
       "5        - - 티는 여기 있는 게 다예요?\n",
       "...                      ...\n",
       "3127     - - 수선 끝나면 연락 부탁드려요\n",
       "3128       - - 신상품은 언제 들어와요?\n",
       "3129      - - 신상 아직 안 들어왔어요?\n",
       "3130        - - 신상은 언제쯤 나와요?\n",
       "3131      - - 신제품 나오려면 멀었어요?\n",
       "\n",
       "[3131 rows x 1 columns]"
      ]
     },
     "execution_count": 24,
     "metadata": {},
     "output_type": "execute_result"
    }
   ],
   "source": [
    "df2.drop(df.columns[0], axis = 'columns')"
   ]
  },
  {
   "cell_type": "code",
   "execution_count": null,
   "metadata": {},
   "outputs": [],
   "source": [
    "df2.to_excel('question2.xlsx')"
   ]
  },
  {
   "cell_type": "code",
   "execution_count": 32,
   "metadata": {},
   "outputs": [],
   "source": [
    "df3 = pd.read_csv(\"D:/Workspace/Project_fashion/question2.csv\", header = None, encoding = 'CP949')"
   ]
  },
  {
   "cell_type": "code",
   "execution_count": 38,
   "metadata": {},
   "outputs": [
    {
     "data": {
      "text/html": [
       "<div>\n",
       "<style scoped>\n",
       "    .dataframe tbody tr th:only-of-type {\n",
       "        vertical-align: middle;\n",
       "    }\n",
       "\n",
       "    .dataframe tbody tr th {\n",
       "        vertical-align: top;\n",
       "    }\n",
       "\n",
       "    .dataframe thead th {\n",
       "        text-align: right;\n",
       "    }\n",
       "</style>\n",
       "<table border=\"1\" class=\"dataframe\">\n",
       "  <thead>\n",
       "    <tr style=\"text-align: right;\">\n",
       "      <th></th>\n",
       "      <th>0</th>\n",
       "    </tr>\n",
       "  </thead>\n",
       "  <tbody>\n",
       "    <tr>\n",
       "      <th>0</th>\n",
       "      <td>- - 봄 옷 안 들어와요?</td>\n",
       "    </tr>\n",
       "    <tr>\n",
       "      <th>1</th>\n",
       "      <td>- - 이거 할인 해주세요?</td>\n",
       "    </tr>\n",
       "    <tr>\n",
       "      <th>2</th>\n",
       "      <td>- - 이런 거는 사이즈가 어떻게 돼요?</td>\n",
       "    </tr>\n",
       "    <tr>\n",
       "      <th>3</th>\n",
       "      <td>- - 66도 있어요?</td>\n",
       "    </tr>\n",
       "    <tr>\n",
       "      <th>4</th>\n",
       "      <td>- - 티는 여기 있는 게 다예요?</td>\n",
       "    </tr>\n",
       "    <tr>\n",
       "      <th>...</th>\n",
       "      <td>...</td>\n",
       "    </tr>\n",
       "    <tr>\n",
       "      <th>3126</th>\n",
       "      <td>- - 수선 끝나면 연락 부탁드려요</td>\n",
       "    </tr>\n",
       "    <tr>\n",
       "      <th>3127</th>\n",
       "      <td>- - 신상품은 언제 들어와요?</td>\n",
       "    </tr>\n",
       "    <tr>\n",
       "      <th>3128</th>\n",
       "      <td>- - 신상 아직 안 들어왔어요?</td>\n",
       "    </tr>\n",
       "    <tr>\n",
       "      <th>3129</th>\n",
       "      <td>- - 신상은 언제쯤 나와요?</td>\n",
       "    </tr>\n",
       "    <tr>\n",
       "      <th>3130</th>\n",
       "      <td>- - 신제품 나오려면 멀었어요?</td>\n",
       "    </tr>\n",
       "  </tbody>\n",
       "</table>\n",
       "<p>3131 rows × 1 columns</p>\n",
       "</div>"
      ],
      "text/plain": [
       "                           0\n",
       "0            - - 봄 옷 안 들어와요?\n",
       "1            - - 이거 할인 해주세요?\n",
       "2     - - 이런 거는 사이즈가 어떻게 돼요?\n",
       "3               - - 66도 있어요?\n",
       "4        - - 티는 여기 있는 게 다예요?\n",
       "...                      ...\n",
       "3126     - - 수선 끝나면 연락 부탁드려요\n",
       "3127       - - 신상품은 언제 들어와요?\n",
       "3128      - - 신상 아직 안 들어왔어요?\n",
       "3129        - - 신상은 언제쯤 나와요?\n",
       "3130      - - 신제품 나오려면 멀었어요?\n",
       "\n",
       "[3131 rows x 1 columns]"
      ]
     },
     "execution_count": 38,
     "metadata": {},
     "output_type": "execute_result"
    }
   ],
   "source": [
    "df3"
   ]
  },
  {
   "cell_type": "code",
   "execution_count": 37,
   "metadata": {},
   "outputs": [],
   "source": [
    "df3.to_csv('question3.csv',encoding='CP949')"
   ]
  },
  {
   "cell_type": "code",
   "execution_count": null,
   "metadata": {},
   "outputs": [],
   "source": []
  },
  {
   "cell_type": "code",
   "execution_count": null,
   "metadata": {},
   "outputs": [],
   "source": [
    "df3."
   ]
  },
  {
   "cell_type": "code",
   "execution_count": null,
   "metadata": {},
   "outputs": [],
   "source": []
  },
  {
   "cell_type": "code",
   "execution_count": null,
   "metadata": {},
   "outputs": [],
   "source": []
  },
  {
   "cell_type": "code",
   "execution_count": null,
   "metadata": {},
   "outputs": [],
   "source": []
  }
 ],
 "metadata": {
  "kernelspec": {
   "display_name": "Python 3",
   "language": "python",
   "name": "python3"
  },
  "language_info": {
   "codemirror_mode": {
    "name": "ipython",
    "version": 3
   },
   "file_extension": ".py",
   "mimetype": "text/x-python",
   "name": "python",
   "nbconvert_exporter": "python",
   "pygments_lexer": "ipython3",
   "version": "3.7.6"
  }
 },
 "nbformat": 4,
 "nbformat_minor": 4
}
